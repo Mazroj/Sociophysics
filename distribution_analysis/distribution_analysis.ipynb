{
 "cells": [
  {
   "cell_type": "code",
   "execution_count": 10,
   "id": "ed9e7a4b",
   "metadata": {},
   "outputs": [],
   "source": [
    "import discrete_opinion as do\n",
    "import numpy as np\n",
    "import pandas as pd\n",
    "import matplotlib.pyplot as plt\n",
    "from tqdm import tqdm"
   ]
  },
  {
   "cell_type": "code",
   "execution_count": 11,
   "id": "8dbc71c1",
   "metadata": {},
   "outputs": [],
   "source": [
    "def most_frequent_value(arr,propaganda):\n",
    "    values, counts = np.unique(arr, return_counts=True)\n",
    "    smax = np.max(counts)\n",
    "    if len(np.where(values == propaganda)[0]) > 0:\n",
    "        print(np.where(values == propaganda))\n",
    "        sprop_index = np.where(values == propaganda)[0][0]\n",
    "        sprop = counts[sprop_index]\n",
    "    else:\n",
    "        sprop = 0\n",
    "    \n",
    "    return smax, sprop\n",
    "    "
   ]
  },
  {
   "cell_type": "code",
   "execution_count": 12,
   "id": "33942410",
   "metadata": {},
   "outputs": [],
   "source": [
    "ob1 = do.Global(size = 1000, options = 100)"
   ]
  },
  {
   "cell_type": "markdown",
   "id": "4d64ca13",
   "metadata": {},
   "source": [
    "### Intensity 0 profile plot"
   ]
  },
  {
   "cell_type": "code",
   "execution_count": 5,
   "id": "455bfc56",
   "metadata": {},
   "outputs": [
    {
     "name": "stdout",
     "output_type": "stream",
     "text": [
      "(array([58], dtype=int64),)\n",
      "(array([23], dtype=int64),)\n",
      "(array([2], dtype=int64),)\n",
      "(array([1], dtype=int64),)\n",
      "(array([55], dtype=int64),)\n",
      "(array([23], dtype=int64),)\n",
      "(array([9], dtype=int64),)\n",
      "(array([58], dtype=int64),)\n",
      "(array([56], dtype=int64),)\n",
      "(array([5], dtype=int64),)\n",
      "(array([1], dtype=int64),)\n",
      "(array([55], dtype=int64),)\n",
      "(array([23], dtype=int64),)\n",
      "(array([17], dtype=int64),)\n",
      "(array([2], dtype=int64),)\n",
      "(array([9], dtype=int64),)\n",
      "(array([12], dtype=int64),)\n",
      "(array([58], dtype=int64),)\n",
      "(array([6], dtype=int64),)\n",
      "(array([20], dtype=int64),)\n",
      "(array([54], dtype=int64),)\n",
      "(array([9], dtype=int64),)\n",
      "(array([56], dtype=int64),)\n",
      "(array([11], dtype=int64),)\n",
      "(array([4], dtype=int64),)\n",
      "(array([56], dtype=int64),)\n",
      "(array([8], dtype=int64),)\n",
      "(array([17], dtype=int64),)\n",
      "(array([57], dtype=int64),)\n",
      "(array([22], dtype=int64),)\n",
      "(array([23], dtype=int64),)\n",
      "(array([10], dtype=int64),)\n",
      "(array([58], dtype=int64),)\n",
      "(array([16], dtype=int64),)\n",
      "(array([1], dtype=int64),)\n",
      "(array([58], dtype=int64),)\n",
      "(array([4], dtype=int64),)\n",
      "(array([52], dtype=int64),)\n",
      "(array([1], dtype=int64),)\n",
      "(array([17], dtype=int64),)\n",
      "(array([4], dtype=int64),)\n",
      "(array([4], dtype=int64),)\n",
      "(array([3], dtype=int64),)\n",
      "(array([58], dtype=int64),)\n",
      "(array([57], dtype=int64),)\n",
      "(array([25], dtype=int64),)\n",
      "(array([24], dtype=int64),)\n",
      "(array([56], dtype=int64),)\n",
      "(array([5], dtype=int64),)\n",
      "(array([17], dtype=int64),)\n",
      "(array([11], dtype=int64),)\n",
      "(array([57], dtype=int64),)\n",
      "(array([12], dtype=int64),)\n",
      "(array([2], dtype=int64),)\n",
      "(array([57], dtype=int64),)\n",
      "(array([24], dtype=int64),)\n",
      "(array([13], dtype=int64),)\n",
      "(array([1], dtype=int64),)\n",
      "(array([5], dtype=int64),)\n",
      "(array([54], dtype=int64),)\n",
      "(array([15], dtype=int64),)\n",
      "(array([25], dtype=int64),)\n",
      "(array([11], dtype=int64),)\n",
      "(array([56], dtype=int64),)\n",
      "(array([25], dtype=int64),)\n",
      "(array([6], dtype=int64),)\n",
      "(array([56], dtype=int64),)\n",
      "(array([9], dtype=int64),)\n",
      "(array([59], dtype=int64),)\n",
      "(array([5], dtype=int64),)\n",
      "(array([24], dtype=int64),)\n",
      "(array([56], dtype=int64),)\n",
      "(array([3], dtype=int64),)\n",
      "(array([3], dtype=int64),)\n",
      "(array([25], dtype=int64),)\n",
      "(array([57], dtype=int64),)\n",
      "(array([22], dtype=int64),)\n",
      "(array([4], dtype=int64),)\n",
      "(array([58], dtype=int64),)\n",
      "(array([58], dtype=int64),)\n",
      "(array([24], dtype=int64),)\n",
      "(array([8], dtype=int64),)\n",
      "(array([7], dtype=int64),)\n",
      "(array([57], dtype=int64),)\n",
      "(array([5], dtype=int64),)\n",
      "(array([57], dtype=int64),)\n",
      "(array([24], dtype=int64),)\n",
      "(array([14], dtype=int64),)\n",
      "(array([5], dtype=int64),)\n",
      "(array([55], dtype=int64),)\n",
      "(array([57], dtype=int64),)\n",
      "(array([58], dtype=int64),)\n",
      "(array([57], dtype=int64),)\n",
      "(array([55], dtype=int64),)\n",
      "(array([10], dtype=int64),)\n",
      "(array([7], dtype=int64),)\n",
      "(array([2], dtype=int64),)\n",
      "(array([57], dtype=int64),)\n",
      "(array([16], dtype=int64),)\n",
      "(array([56], dtype=int64),)\n",
      "(array([24], dtype=int64),)\n",
      "(array([15], dtype=int64),)\n",
      "(array([3], dtype=int64),)\n"
     ]
    }
   ],
   "source": [
    "tol = np.arange(0,100,1) # Tolerance\n",
    "resres1 = []\n",
    "resres2 = []\n",
    "for rep in range(50):\n",
    "    res1 = np.empty(100) #Save smax\n",
    "    res2 = np.empty(100) #Save sprop\n",
    "    for i in tol:\n",
    "        lisq = ob1.simul_global_evol(i, 0.0, 150000, 80, tipe = 'normal')\n",
    "        smax, sprop = most_frequent_value(lisq,80)\n",
    "        res1[i] = smax\n",
    "        res2[i] = sprop\n",
    "    resres1.append(res1)\n",
    "    resres2.append(res2)"
   ]
  },
  {
   "cell_type": "code",
   "execution_count": 7,
   "id": "1a2f210b",
   "metadata": {},
   "outputs": [],
   "source": [
    "\n",
    "mean_res1 = np.mean(resres1, axis =0)\n",
    "mean_res2 = np.mean(resres2, axis =0)"
   ]
  },
  {
   "cell_type": "code",
   "execution_count": 8,
   "id": "a2491da8",
   "metadata": {},
   "outputs": [
    {
     "data": {
      "text/plain": [
       "Text(0, 0.5, '$S_{max}$')"
      ]
     },
     "execution_count": 8,
     "metadata": {},
     "output_type": "execute_result"
    },
    {
     "data": {
      "image/png": "[encoded data removed]",
      "text/plain": [
       "<Figure size 432x288 with 1 Axes>"
      ]
     },
     "metadata": {
      "needs_background": "light"
     },
     "output_type": "display_data"
    }
   ],
   "source": [
    "plt.plot(tol/100,abs(mean_res1)/1000,'.-',label = 'Intensity = 0')\n",
    "plt.legend()\n",
    "plt.xlabel(r'$\\mu/p$')\n",
    "plt.ylabel(r'$S_{max}$')\n",
    "#plt.savefig('Images/profile_intensity0.png')"
   ]
  },
  {
   "cell_type": "markdown",
   "id": "33082bf8",
   "metadata": {},
   "source": [
    "### Test changing mean for normal distribution sdev = 10"
   ]
  },
  {
   "cell_type": "code",
   "execution_count": 15,
   "id": "72860fb2",
   "metadata": {},
   "outputs": [
    {
     "name": "stderr",
     "output_type": "stream",
     "text": [
      "100%|██████████| 15/15 [06:46<00:00, 27.08s/it]\n",
      " 20%|██        | 3/15 [01:31<06:12, 31.04s/it]"
     ]
    },
    {
     "name": "stdout",
     "output_type": "stream",
     "text": [
      "(array([11], dtype=int64),)\n"
     ]
    },
    {
     "name": "stderr",
     "output_type": "stream",
     "text": [
      " 40%|████      | 6/15 [02:57<04:22, 29.19s/it]"
     ]
    },
    {
     "name": "stdout",
     "output_type": "stream",
     "text": [
      "(array([3], dtype=int64),)\n"
     ]
    },
    {
     "name": "stderr",
     "output_type": "stream",
     "text": [
      " 67%|██████▋   | 10/15 [04:48<02:21, 28.20s/it]"
     ]
    },
    {
     "name": "stdout",
     "output_type": "stream",
     "text": [
      "(array([57], dtype=int64),)\n",
      "(array([9], dtype=int64),)\n"
     ]
    },
    {
     "name": "stderr",
     "output_type": "stream",
     "text": [
      "100%|██████████| 15/15 [07:10<00:00, 28.73s/it]\n",
      "  0%|          | 0/15 [00:00<?, ?it/s]"
     ]
    },
    {
     "name": "stdout",
     "output_type": "stream",
     "text": [
      "(array([22], dtype=int64),)\n",
      "(array([15], dtype=int64),)\n"
     ]
    },
    {
     "name": "stderr",
     "output_type": "stream",
     "text": [
      " 13%|█▎        | 2/15 [00:51<05:31, 25.50s/it]"
     ]
    },
    {
     "name": "stdout",
     "output_type": "stream",
     "text": [
      "(array([54], dtype=int64),)\n",
      "(array([5], dtype=int64),)\n"
     ]
    },
    {
     "name": "stderr",
     "output_type": "stream",
     "text": [
      " 20%|██        | 3/15 [01:23<05:45, 28.82s/it]"
     ]
    },
    {
     "name": "stdout",
     "output_type": "stream",
     "text": [
      "(array([23], dtype=int64),)\n",
      "(array([15], dtype=int64),)\n",
      "(array([4], dtype=int64),)\n"
     ]
    },
    {
     "name": "stderr",
     "output_type": "stream",
     "text": [
      " 27%|██▋       | 4/15 [01:59<05:45, 31.38s/it]"
     ]
    },
    {
     "name": "stdout",
     "output_type": "stream",
     "text": [
      "(array([54], dtype=int64),)\n",
      "(array([12], dtype=int64),)\n",
      "(array([4], dtype=int64),)\n"
     ]
    },
    {
     "name": "stderr",
     "output_type": "stream",
     "text": [
      " 33%|███▎      | 5/15 [02:38<05:40, 34.08s/it]"
     ]
    },
    {
     "name": "stdout",
     "output_type": "stream",
     "text": [
      "(array([59], dtype=int64),)\n",
      "(array([14], dtype=int64),)\n"
     ]
    },
    {
     "name": "stderr",
     "output_type": "stream",
     "text": [
      " 47%|████▋     | 7/15 [03:59<04:58, 37.32s/it]"
     ]
    },
    {
     "name": "stdout",
     "output_type": "stream",
     "text": [
      "(array([3], dtype=int64),)\n",
      "(array([2], dtype=int64),)\n",
      "(array([1], dtype=int64),)\n"
     ]
    },
    {
     "name": "stderr",
     "output_type": "stream",
     "text": [
      " 53%|█████▎    | 8/15 [04:41<04:32, 38.94s/it]"
     ]
    },
    {
     "name": "stdout",
     "output_type": "stream",
     "text": [
      "(array([60], dtype=int64),)\n",
      "(array([16], dtype=int64),)\n"
     ]
    },
    {
     "name": "stderr",
     "output_type": "stream",
     "text": [
      " 60%|██████    | 9/15 [05:18<03:50, 38.41s/it]"
     ]
    },
    {
     "name": "stdout",
     "output_type": "stream",
     "text": [
      "(array([54], dtype=int64),)\n",
      "(array([17], dtype=int64),)\n",
      "(array([10], dtype=int64),)\n",
      "(array([3], dtype=int64),)\n"
     ]
    },
    {
     "name": "stderr",
     "output_type": "stream",
     "text": [
      " 67%|██████▋   | 10/15 [05:56<03:11, 38.37s/it]"
     ]
    },
    {
     "name": "stdout",
     "output_type": "stream",
     "text": [
      "(array([56], dtype=int64),)\n"
     ]
    },
    {
     "name": "stderr",
     "output_type": "stream",
     "text": [
      " 73%|███████▎  | 11/15 [06:30<02:28, 37.03s/it]"
     ]
    },
    {
     "name": "stdout",
     "output_type": "stream",
     "text": [
      "(array([59], dtype=int64),)\n",
      "(array([22], dtype=int64),)\n",
      "(array([13], dtype=int64),)\n",
      "(array([6], dtype=int64),)\n"
     ]
    },
    {
     "name": "stderr",
     "output_type": "stream",
     "text": [
      " 80%|████████  | 12/15 [07:16<01:58, 39.53s/it]"
     ]
    },
    {
     "name": "stdout",
     "output_type": "stream",
     "text": [
      "(array([54], dtype=int64),)\n",
      "(array([3], dtype=int64),)\n",
      "(array([2], dtype=int64),)\n"
     ]
    },
    {
     "name": "stderr",
     "output_type": "stream",
     "text": [
      " 87%|████████▋ | 13/15 [07:55<01:18, 39.42s/it]"
     ]
    },
    {
     "name": "stdout",
     "output_type": "stream",
     "text": [
      "(array([25], dtype=int64),)\n"
     ]
    },
    {
     "name": "stderr",
     "output_type": "stream",
     "text": [
      " 93%|█████████▎| 14/15 [08:38<00:40, 40.42s/it]"
     ]
    },
    {
     "name": "stdout",
     "output_type": "stream",
     "text": [
      "(array([57], dtype=int64),)\n",
      "(array([11], dtype=int64),)\n",
      "(array([3], dtype=int64),)\n"
     ]
    },
    {
     "name": "stderr",
     "output_type": "stream",
     "text": [
      "100%|██████████| 15/15 [09:16<00:00, 37.10s/it]\n",
      "  0%|          | 0/15 [00:00<?, ?it/s]"
     ]
    },
    {
     "name": "stdout",
     "output_type": "stream",
     "text": [
      "(array([49], dtype=int64),)\n",
      "(array([48], dtype=int64),)\n",
      "(array([13], dtype=int64),)\n",
      "(array([0], dtype=int64),)\n"
     ]
    },
    {
     "name": "stderr",
     "output_type": "stream",
     "text": [
      "  7%|▋         | 1/15 [00:37<08:48, 37.76s/it]"
     ]
    },
    {
     "name": "stdout",
     "output_type": "stream",
     "text": [
      "(array([51], dtype=int64),)\n",
      "(array([46], dtype=int64),)\n",
      "(array([21], dtype=int64),)\n",
      "(array([10], dtype=int64),)\n",
      "(array([4], dtype=int64),)\n"
     ]
    },
    {
     "name": "stderr",
     "output_type": "stream",
     "text": [
      " 13%|█▎        | 2/15 [01:22<09:05, 41.93s/it]"
     ]
    },
    {
     "name": "stdout",
     "output_type": "stream",
     "text": [
      "(array([46], dtype=int64),)\n",
      "(array([47], dtype=int64),)\n",
      "(array([4], dtype=int64),)\n",
      "(array([1], dtype=int64),)\n"
     ]
    },
    {
     "name": "stderr",
     "output_type": "stream",
     "text": [
      " 20%|██        | 3/15 [02:00<08:01, 40.13s/it]"
     ]
    },
    {
     "name": "stdout",
     "output_type": "stream",
     "text": [
      "(array([48], dtype=int64),)\n",
      "(array([48], dtype=int64),)\n",
      "(array([12], dtype=int64),)\n",
      "(array([8], dtype=int64),)\n",
      "(array([5], dtype=int64),)\n",
      "(array([2], dtype=int64),)\n"
     ]
    },
    {
     "name": "stderr",
     "output_type": "stream",
     "text": [
      " 27%|██▋       | 4/15 [02:38<07:09, 39.09s/it]"
     ]
    },
    {
     "name": "stdout",
     "output_type": "stream",
     "text": [
      "(array([46], dtype=int64),)\n",
      "(array([48], dtype=int64),)\n",
      "(array([3], dtype=int64),)\n",
      "(array([0], dtype=int64),)\n",
      "(array([0], dtype=int64),)\n"
     ]
    },
    {
     "name": "stderr",
     "output_type": "stream",
     "text": [
      " 33%|███▎      | 5/15 [03:10<06:07, 36.72s/it]"
     ]
    },
    {
     "name": "stdout",
     "output_type": "stream",
     "text": [
      "(array([48], dtype=int64),)\n",
      "(array([50], dtype=int64),)\n",
      "(array([1], dtype=int64),)\n",
      "(array([0], dtype=int64),)\n"
     ]
    },
    {
     "name": "stderr",
     "output_type": "stream",
     "text": [
      " 40%|████      | 6/15 [03:44<05:20, 35.67s/it]"
     ]
    },
    {
     "name": "stdout",
     "output_type": "stream",
     "text": [
      "(array([47], dtype=int64),)\n",
      "(array([44], dtype=int64),)\n",
      "(array([9], dtype=int64),)\n"
     ]
    },
    {
     "name": "stderr",
     "output_type": "stream",
     "text": [
      " 47%|████▋     | 7/15 [04:31<05:15, 39.38s/it]"
     ]
    },
    {
     "name": "stdout",
     "output_type": "stream",
     "text": [
      "(array([50], dtype=int64),)\n",
      "(array([52], dtype=int64),)\n",
      "(array([18], dtype=int64),)\n",
      "(array([1], dtype=int64),)\n"
     ]
    },
    {
     "name": "stderr",
     "output_type": "stream",
     "text": [
      " 53%|█████▎    | 8/15 [05:05<04:23, 37.67s/it]"
     ]
    },
    {
     "name": "stdout",
     "output_type": "stream",
     "text": [
      "(array([49], dtype=int64),)\n",
      "(array([51], dtype=int64),)\n",
      "(array([18], dtype=int64),)\n",
      "(array([0], dtype=int64),)\n"
     ]
    },
    {
     "name": "stderr",
     "output_type": "stream",
     "text": [
      " 60%|██████    | 9/15 [05:40<03:41, 36.96s/it]"
     ]
    },
    {
     "name": "stdout",
     "output_type": "stream",
     "text": [
      "(array([49], dtype=int64),)\n",
      "(array([46], dtype=int64),)\n",
      "(array([20], dtype=int64),)\n",
      "(array([7], dtype=int64),)\n",
      "(array([0], dtype=int64),)\n"
     ]
    },
    {
     "name": "stderr",
     "output_type": "stream",
     "text": [
      " 67%|██████▋   | 10/15 [06:24<03:15, 39.12s/it]"
     ]
    },
    {
     "name": "stdout",
     "output_type": "stream",
     "text": [
      "(array([49], dtype=int64),)\n",
      "(array([48], dtype=int64),)\n",
      "(array([3], dtype=int64),)\n",
      "(array([1], dtype=int64),)\n",
      "(array([0], dtype=int64),)\n"
     ]
    },
    {
     "name": "stderr",
     "output_type": "stream",
     "text": [
      " 73%|███████▎  | 11/15 [07:04<02:36, 39.22s/it]"
     ]
    },
    {
     "name": "stdout",
     "output_type": "stream",
     "text": [
      "(array([47], dtype=int64),)\n",
      "(array([49], dtype=int64),)\n",
      "(array([12], dtype=int64),)\n",
      "(array([3], dtype=int64),)\n"
     ]
    },
    {
     "name": "stderr",
     "output_type": "stream",
     "text": [
      " 80%|████████  | 12/15 [07:43<01:57, 39.16s/it]"
     ]
    },
    {
     "name": "stdout",
     "output_type": "stream",
     "text": [
      "(array([48], dtype=int64),)\n",
      "(array([47], dtype=int64),)\n",
      "(array([20], dtype=int64),)\n",
      "(array([10], dtype=int64),)\n",
      "(array([8], dtype=int64),)\n",
      "(array([0], dtype=int64),)\n"
     ]
    },
    {
     "name": "stderr",
     "output_type": "stream",
     "text": [
      " 87%|████████▋ | 13/15 [08:27<01:21, 40.63s/it]"
     ]
    },
    {
     "name": "stdout",
     "output_type": "stream",
     "text": [
      "(array([51], dtype=int64),)\n",
      "(array([47], dtype=int64),)\n",
      "(array([3], dtype=int64),)\n"
     ]
    },
    {
     "name": "stderr",
     "output_type": "stream",
     "text": [
      " 93%|█████████▎| 14/15 [09:10<00:41, 41.45s/it]"
     ]
    },
    {
     "name": "stdout",
     "output_type": "stream",
     "text": [
      "(array([49], dtype=int64),)\n",
      "(array([51], dtype=int64),)\n"
     ]
    },
    {
     "name": "stderr",
     "output_type": "stream",
     "text": [
      "100%|██████████| 15/15 [09:48<00:00, 39.24s/it]\n",
      "  0%|          | 0/15 [00:00<?, ?it/s]"
     ]
    },
    {
     "name": "stdout",
     "output_type": "stream",
     "text": [
      "(array([29], dtype=int64),)\n",
      "(array([28], dtype=int64),)\n",
      "(array([0], dtype=int64),)\n",
      "(array([0], dtype=int64),)\n",
      "(array([0], dtype=int64),)\n",
      "(array([0], dtype=int64),)\n"
     ]
    },
    {
     "name": "stderr",
     "output_type": "stream",
     "text": [
      "  7%|▋         | 1/15 [00:26<06:15, 26.79s/it]"
     ]
    },
    {
     "name": "stdout",
     "output_type": "stream",
     "text": [
      "(array([28], dtype=int64),)\n",
      "(array([27], dtype=int64),)\n",
      "(array([4], dtype=int64),)\n",
      "(array([0], dtype=int64),)\n",
      "(array([0], dtype=int64),)\n"
     ]
    },
    {
     "name": "stderr",
     "output_type": "stream",
     "text": [
      " 13%|█▎        | 2/15 [00:59<06:33, 30.25s/it]"
     ]
    },
    {
     "name": "stdout",
     "output_type": "stream",
     "text": [
      "(array([27], dtype=int64),)\n",
      "(array([30], dtype=int64),)\n",
      "(array([12], dtype=int64),)\n",
      "(array([0], dtype=int64),)\n"
     ]
    },
    {
     "name": "stderr",
     "output_type": "stream",
     "text": [
      " 20%|██        | 3/15 [01:30<06:08, 30.69s/it]"
     ]
    },
    {
     "name": "stdout",
     "output_type": "stream",
     "text": [
      "(array([27], dtype=int64),)\n",
      "(array([29], dtype=int64),)\n",
      "(array([1], dtype=int64),)\n",
      "(array([0], dtype=int64),)\n",
      "(array([0], dtype=int64),)\n",
      "(array([0], dtype=int64),)\n",
      "(array([0], dtype=int64),)\n",
      "(array([0], dtype=int64),)\n"
     ]
    },
    {
     "name": "stderr",
     "output_type": "stream",
     "text": [
      " 27%|██▋       | 4/15 [01:55<05:12, 28.43s/it]"
     ]
    },
    {
     "name": "stdout",
     "output_type": "stream",
     "text": [
      "(array([26], dtype=int64),)\n",
      "(array([31], dtype=int64),)\n",
      "(array([4], dtype=int64),)\n",
      "(array([3], dtype=int64),)\n",
      "(array([1], dtype=int64),)\n",
      "(array([1], dtype=int64),)\n",
      "(array([0], dtype=int64),)\n",
      "(array([0], dtype=int64),)\n",
      "(array([0], dtype=int64),)\n"
     ]
    },
    {
     "name": "stderr",
     "output_type": "stream",
     "text": [
      " 33%|███▎      | 5/15 [02:20<04:31, 27.20s/it]"
     ]
    },
    {
     "name": "stdout",
     "output_type": "stream",
     "text": [
      "(array([30], dtype=int64),)\n",
      "(array([28], dtype=int64),)\n",
      "(array([11], dtype=int64),)\n",
      "(array([3], dtype=int64),)\n",
      "(array([0], dtype=int64),)\n",
      "(array([0], dtype=int64),)\n",
      "(array([0], dtype=int64),)\n"
     ]
    },
    {
     "name": "stderr",
     "output_type": "stream",
     "text": [
      " 40%|████      | 6/15 [02:49<04:11, 27.91s/it]"
     ]
    },
    {
     "name": "stdout",
     "output_type": "stream",
     "text": [
      "(array([28], dtype=int64),)\n",
      "(array([27], dtype=int64),)\n",
      "(array([0], dtype=int64),)\n",
      "(array([0], dtype=int64),)\n"
     ]
    },
    {
     "name": "stderr",
     "output_type": "stream",
     "text": [
      " 47%|████▋     | 7/15 [03:27<04:08, 31.05s/it]"
     ]
    },
    {
     "name": "stdout",
     "output_type": "stream",
     "text": [
      "(array([28], dtype=int64),)\n",
      "(array([29], dtype=int64),)\n",
      "(array([12], dtype=int64),)\n",
      "(array([3], dtype=int64),)\n",
      "(array([1], dtype=int64),)\n",
      "(array([0], dtype=int64),)\n"
     ]
    },
    {
     "name": "stderr",
     "output_type": "stream",
     "text": [
      " 53%|█████▎    | 8/15 [03:51<03:22, 28.96s/it]"
     ]
    },
    {
     "name": "stdout",
     "output_type": "stream",
     "text": [
      "(array([29], dtype=int64),)\n",
      "(array([28], dtype=int64),)\n",
      "(array([4], dtype=int64),)\n",
      "(array([4], dtype=int64),)\n",
      "(array([3], dtype=int64),)\n",
      "(array([1], dtype=int64),)\n",
      "(array([0], dtype=int64),)\n",
      "(array([0], dtype=int64),)\n",
      "(array([0], dtype=int64),)\n",
      "(array([0], dtype=int64),)\n"
     ]
    },
    {
     "name": "stderr",
     "output_type": "stream",
     "text": [
      " 60%|██████    | 9/15 [04:26<03:03, 30.66s/it]"
     ]
    },
    {
     "name": "stdout",
     "output_type": "stream",
     "text": [
      "(array([31], dtype=int64),)\n",
      "(array([33], dtype=int64),)\n",
      "(array([8], dtype=int64),)\n",
      "(array([2], dtype=int64),)\n",
      "(array([0], dtype=int64),)\n"
     ]
    },
    {
     "name": "stderr",
     "output_type": "stream",
     "text": [
      " 67%|██████▋   | 10/15 [04:52<02:26, 29.28s/it]"
     ]
    },
    {
     "name": "stdout",
     "output_type": "stream",
     "text": [
      "(array([29], dtype=int64),)\n",
      "(array([28], dtype=int64),)\n",
      "(array([3], dtype=int64),)\n",
      "(array([0], dtype=int64),)\n",
      "(array([1], dtype=int64),)\n",
      "(array([0], dtype=int64),)\n",
      "(array([0], dtype=int64),)\n",
      "(array([0], dtype=int64),)\n",
      "(array([0], dtype=int64),)\n",
      "(array([0], dtype=int64),)\n"
     ]
    },
    {
     "name": "stderr",
     "output_type": "stream",
     "text": [
      " 73%|███████▎  | 11/15 [05:23<01:59, 29.85s/it]"
     ]
    },
    {
     "name": "stdout",
     "output_type": "stream",
     "text": [
      "(array([30], dtype=int64),)\n",
      "(array([29], dtype=int64),)\n",
      "(array([0], dtype=int64),)\n",
      "(array([0], dtype=int64),)\n",
      "(array([0], dtype=int64),)\n",
      "(array([0], dtype=int64),)\n"
     ]
    },
    {
     "name": "stderr",
     "output_type": "stream",
     "text": [
      " 80%|████████  | 12/15 [05:54<01:30, 30.26s/it]"
     ]
    },
    {
     "name": "stdout",
     "output_type": "stream",
     "text": [
      "(array([29], dtype=int64),)\n",
      "(array([30], dtype=int64),)\n",
      "(array([7], dtype=int64),)\n",
      "(array([4], dtype=int64),)\n",
      "(array([2], dtype=int64),)\n",
      "(array([0], dtype=int64),)\n",
      "(array([1], dtype=int64),)\n",
      "(array([0], dtype=int64),)\n",
      "(array([0], dtype=int64),)\n",
      "(array([0], dtype=int64),)\n",
      "(array([0], dtype=int64),)\n"
     ]
    },
    {
     "name": "stderr",
     "output_type": "stream",
     "text": [
      " 87%|████████▋ | 13/15 [06:21<00:58, 29.20s/it]"
     ]
    },
    {
     "name": "stdout",
     "output_type": "stream",
     "text": [
      "(array([27], dtype=int64),)\n",
      "(array([30], dtype=int64),)\n",
      "(array([1], dtype=int64),)\n",
      "(array([0], dtype=int64),)\n",
      "(array([0], dtype=int64),)\n",
      "(array([0], dtype=int64),)\n",
      "(array([0], dtype=int64),)\n"
     ]
    },
    {
     "name": "stderr",
     "output_type": "stream",
     "text": [
      " 93%|█████████▎| 14/15 [06:48<00:28, 28.43s/it]"
     ]
    },
    {
     "name": "stdout",
     "output_type": "stream",
     "text": [
      "(array([26], dtype=int64),)\n",
      "(array([29], dtype=int64),)\n",
      "(array([6], dtype=int64),)\n",
      "(array([0], dtype=int64),)\n",
      "(array([0], dtype=int64),)\n",
      "(array([0], dtype=int64),)\n",
      "(array([0], dtype=int64),)\n"
     ]
    },
    {
     "name": "stderr",
     "output_type": "stream",
     "text": [
      "100%|██████████| 15/15 [07:15<00:00, 29.01s/it]\n"
     ]
    }
   ],
   "source": [
    "tol = np.arange(0,100,1) # Tolerance\n",
    "dat_mean = []\n",
    "for meanva in [20,40,50,60,80]:\n",
    "    resres1 = []\n",
    "    resres2 = []\n",
    "    for rep in tqdm(range(15)):\n",
    "        res1 = np.empty(100) #Save smax\n",
    "        res2 = np.empty(100) #Save sprop\n",
    "        for i in tol:\n",
    "            lisq = ob1.simul_global_evol(i, 0.0, 150000, 80, meanva,tipe = 'normal', sdev = 10)\n",
    "            smax, sprop = most_frequent_value(lisq,80)\n",
    "            res1[i] = smax\n",
    "            res2[i] = sprop\n",
    "        resres1.append(res1)\n",
    "        resres2.append(res2)\n",
    "    dat_mean.append(np.mean(resres1, axis =0))\n"
   ]
  },
  {
   "cell_type": "code",
   "execution_count": 17,
   "id": "f10b922a",
   "metadata": {},
   "outputs": [
    {
     "data": {
      "image/png": "[encoded data removed]",
      "text/plain": [
       "<Figure size 432x288 with 1 Axes>"
      ]
     },
     "metadata": {
      "needs_background": "light"
     },
     "output_type": "display_data"
    }
   ],
   "source": [
    "for i in range( len(dat_mean)):\n",
    "    plt.plot(tol/100,abs(dat_mean[i])/1000,'.-',label = f'Mean ={i}')\n",
    "plt.legend()\n",
    "plt.xlabel(r'$\\mu/p$')\n",
    "plt.ylabel(r'$S_{max}$')\n",
    "plt.savefig('Images/smax_vs_mu_n1000_p100_i0.0_prop80_nor_sdev10.png',dpi =400)"
   ]
  },
  {
   "cell_type": "code",
   "execution_count": 19,
   "id": "49f87bee",
   "metadata": {},
   "outputs": [
    {
     "data": {
      "text/html": [
       "<div>\n",
       "<style scoped>\n",
       "    .dataframe tbody tr th:only-of-type {\n",
       "        vertical-align: middle;\n",
       "    }\n",
       "\n",
       "    .dataframe tbody tr th {\n",
       "        vertical-align: top;\n",
       "    }\n",
       "\n",
       "    .dataframe thead th {\n",
       "        text-align: right;\n",
       "    }\n",
       "</style>\n",
       "<table border=\"1\" class=\"dataframe\">\n",
       "  <thead>\n",
       "    <tr style=\"text-align: right;\">\n",
       "      <th></th>\n",
       "      <th>0</th>\n",
       "      <th>1</th>\n",
       "      <th>2</th>\n",
       "      <th>3</th>\n",
       "      <th>4</th>\n",
       "      <th>5</th>\n",
       "      <th>6</th>\n",
       "      <th>7</th>\n",
       "      <th>8</th>\n",
       "      <th>9</th>\n",
       "      <th>...</th>\n",
       "      <th>90</th>\n",
       "      <th>91</th>\n",
       "      <th>92</th>\n",
       "      <th>93</th>\n",
       "      <th>94</th>\n",
       "      <th>95</th>\n",
       "      <th>96</th>\n",
       "      <th>97</th>\n",
       "      <th>98</th>\n",
       "      <th>99</th>\n",
       "    </tr>\n",
       "  </thead>\n",
       "  <tbody>\n",
       "    <tr>\n",
       "      <th>20</th>\n",
       "      <td>50.533333</td>\n",
       "      <td>47.866667</td>\n",
       "      <td>155.333333</td>\n",
       "      <td>233.933333</td>\n",
       "      <td>296.066667</td>\n",
       "      <td>389.000000</td>\n",
       "      <td>500.733333</td>\n",
       "      <td>416.266667</td>\n",
       "      <td>527.266667</td>\n",
       "      <td>617.133333</td>\n",
       "      <td>...</td>\n",
       "      <td>1000.0</td>\n",
       "      <td>1000.0</td>\n",
       "      <td>1000.0</td>\n",
       "      <td>1000.0</td>\n",
       "      <td>1000.0</td>\n",
       "      <td>1000.0</td>\n",
       "      <td>1000.0</td>\n",
       "      <td>1000.0</td>\n",
       "      <td>1000.0</td>\n",
       "      <td>1000.0</td>\n",
       "    </tr>\n",
       "    <tr>\n",
       "      <th>40</th>\n",
       "      <td>49.600000</td>\n",
       "      <td>47.600000</td>\n",
       "      <td>151.200000</td>\n",
       "      <td>239.533333</td>\n",
       "      <td>300.800000</td>\n",
       "      <td>398.533333</td>\n",
       "      <td>435.066667</td>\n",
       "      <td>561.400000</td>\n",
       "      <td>615.800000</td>\n",
       "      <td>519.933333</td>\n",
       "      <td>...</td>\n",
       "      <td>1000.0</td>\n",
       "      <td>1000.0</td>\n",
       "      <td>1000.0</td>\n",
       "      <td>1000.0</td>\n",
       "      <td>1000.0</td>\n",
       "      <td>1000.0</td>\n",
       "      <td>1000.0</td>\n",
       "      <td>1000.0</td>\n",
       "      <td>1000.0</td>\n",
       "      <td>1000.0</td>\n",
       "    </tr>\n",
       "    <tr>\n",
       "      <th>50</th>\n",
       "      <td>49.733333</td>\n",
       "      <td>49.400000</td>\n",
       "      <td>146.333333</td>\n",
       "      <td>223.933333</td>\n",
       "      <td>296.533333</td>\n",
       "      <td>391.866667</td>\n",
       "      <td>450.133333</td>\n",
       "      <td>486.000000</td>\n",
       "      <td>523.866667</td>\n",
       "      <td>648.466667</td>\n",
       "      <td>...</td>\n",
       "      <td>1000.0</td>\n",
       "      <td>1000.0</td>\n",
       "      <td>1000.0</td>\n",
       "      <td>1000.0</td>\n",
       "      <td>1000.0</td>\n",
       "      <td>1000.0</td>\n",
       "      <td>1000.0</td>\n",
       "      <td>1000.0</td>\n",
       "      <td>1000.0</td>\n",
       "      <td>1000.0</td>\n",
       "    </tr>\n",
       "    <tr>\n",
       "      <th>60</th>\n",
       "      <td>50.133333</td>\n",
       "      <td>48.533333</td>\n",
       "      <td>146.800000</td>\n",
       "      <td>216.266667</td>\n",
       "      <td>300.533333</td>\n",
       "      <td>327.333333</td>\n",
       "      <td>460.000000</td>\n",
       "      <td>460.200000</td>\n",
       "      <td>512.000000</td>\n",
       "      <td>576.133333</td>\n",
       "      <td>...</td>\n",
       "      <td>1000.0</td>\n",
       "      <td>1000.0</td>\n",
       "      <td>1000.0</td>\n",
       "      <td>1000.0</td>\n",
       "      <td>1000.0</td>\n",
       "      <td>1000.0</td>\n",
       "      <td>1000.0</td>\n",
       "      <td>1000.0</td>\n",
       "      <td>1000.0</td>\n",
       "      <td>1000.0</td>\n",
       "    </tr>\n",
       "    <tr>\n",
       "      <th>80</th>\n",
       "      <td>47.266667</td>\n",
       "      <td>48.800000</td>\n",
       "      <td>158.133333</td>\n",
       "      <td>221.600000</td>\n",
       "      <td>295.466667</td>\n",
       "      <td>414.000000</td>\n",
       "      <td>432.800000</td>\n",
       "      <td>496.800000</td>\n",
       "      <td>514.600000</td>\n",
       "      <td>574.933333</td>\n",
       "      <td>...</td>\n",
       "      <td>1000.0</td>\n",
       "      <td>1000.0</td>\n",
       "      <td>1000.0</td>\n",
       "      <td>1000.0</td>\n",
       "      <td>1000.0</td>\n",
       "      <td>1000.0</td>\n",
       "      <td>1000.0</td>\n",
       "      <td>1000.0</td>\n",
       "      <td>1000.0</td>\n",
       "      <td>1000.0</td>\n",
       "    </tr>\n",
       "  </tbody>\n",
       "</table>\n",
       "<p>5 rows × 100 columns</p>\n",
       "</div>"
      ],
      "text/plain": [
       "           0          1           2           3           4           5   \\\n",
       "20  50.533333  47.866667  155.333333  233.933333  296.066667  389.000000   \n",
       "40  49.600000  47.600000  151.200000  239.533333  300.800000  398.533333   \n",
       "50  49.733333  49.400000  146.333333  223.933333  296.533333  391.866667   \n",
       "60  50.133333  48.533333  146.800000  216.266667  300.533333  327.333333   \n",
       "80  47.266667  48.800000  158.133333  221.600000  295.466667  414.000000   \n",
       "\n",
       "            6           7           8           9   ...      90      91  \\\n",
       "20  500.733333  416.266667  527.266667  617.133333  ...  1000.0  1000.0   \n",
       "40  435.066667  561.400000  615.800000  519.933333  ...  1000.0  1000.0   \n",
       "50  450.133333  486.000000  523.866667  648.466667  ...  1000.0  1000.0   \n",
       "60  460.000000  460.200000  512.000000  576.133333  ...  1000.0  1000.0   \n",
       "80  432.800000  496.800000  514.600000  574.933333  ...  1000.0  1000.0   \n",
       "\n",
       "        92      93      94      95      96      97      98      99  \n",
       "20  1000.0  1000.0  1000.0  1000.0  1000.0  1000.0  1000.0  1000.0  \n",
       "40  1000.0  1000.0  1000.0  1000.0  1000.0  1000.0  1000.0  1000.0  \n",
       "50  1000.0  1000.0  1000.0  1000.0  1000.0  1000.0  1000.0  1000.0  \n",
       "60  1000.0  1000.0  1000.0  1000.0  1000.0  1000.0  1000.0  1000.0  \n",
       "80  1000.0  1000.0  1000.0  1000.0  1000.0  1000.0  1000.0  1000.0  \n",
       "\n",
       "[5 rows x 100 columns]"
      ]
     },
     "execution_count": 19,
     "metadata": {},
     "output_type": "execute_result"
    }
   ],
   "source": [
    "dataset = pd.DataFrame(dat_mean, index = [20,40,50,60,80])\n",
    "dataset.head()\n"
   ]
  },
  {
   "cell_type": "code",
   "execution_count": 20,
   "id": "658509e8",
   "metadata": {},
   "outputs": [],
   "source": [
    "dataset.to_csv('data_analyzed/smax_n1000_p100_i0.0_prop80_nor_sdev10.csv')"
   ]
  },
  {
   "cell_type": "markdown",
   "id": "85ab1f44",
   "metadata": {},
   "source": [
    "### Test changing sdev normal distribution mean = 50 "
   ]
  },
  {
   "cell_type": "code",
   "execution_count": 23,
   "id": "6c2ca516",
   "metadata": {},
   "outputs": [
    {
     "name": "stdout",
     "output_type": "stream",
     "text": [
      "(array([26], dtype=int64),)\n",
      "(array([6], dtype=int64),)\n",
      "(array([4], dtype=int64),)\n",
      "(array([13], dtype=int64),)\n",
      "(array([11], dtype=int64),)\n",
      "(array([60], dtype=int64),)\n",
      "(array([55], dtype=int64),)\n",
      "(array([3], dtype=int64),)\n",
      "(array([56], dtype=int64),)\n",
      "(array([54], dtype=int64),)\n",
      "(array([20], dtype=int64),)\n",
      "(array([5], dtype=int64),)\n",
      "(array([5], dtype=int64),)\n",
      "(array([57], dtype=int64),)\n",
      "(array([54], dtype=int64),)\n",
      "(array([3], dtype=int64),)\n",
      "(array([2], dtype=int64),)\n",
      "(array([54], dtype=int64),)\n",
      "(array([57], dtype=int64),)\n",
      "(array([12], dtype=int64),)\n",
      "(array([24], dtype=int64),)\n",
      "(array([13], dtype=int64),)\n",
      "(array([4], dtype=int64),)\n",
      "(array([2], dtype=int64),)\n",
      "(array([59], dtype=int64),)\n",
      "(array([21], dtype=int64),)\n",
      "(array([3], dtype=int64),)\n",
      "(array([57], dtype=int64),)\n",
      "(array([10], dtype=int64),)\n",
      "(array([59], dtype=int64),)\n",
      "(array([15], dtype=int64),)\n",
      "(array([57], dtype=int64),)\n",
      "(array([6], dtype=int64),)\n",
      "(array([1], dtype=int64),)\n",
      "(array([58], dtype=int64),)\n",
      "(array([8], dtype=int64),)\n",
      "(array([4], dtype=int64),)\n",
      "(array([55], dtype=int64),)\n",
      "(array([6], dtype=int64),)\n",
      "(array([77], dtype=int64),)\n",
      "(array([78], dtype=int64),)\n",
      "(array([8], dtype=int64),)\n",
      "(array([0], dtype=int64),)\n",
      "(array([77], dtype=int64),)\n",
      "(array([75], dtype=int64),)\n",
      "(array([11], dtype=int64),)\n",
      "(array([3], dtype=int64),)\n",
      "(array([2], dtype=int64),)\n",
      "(array([77], dtype=int64),)\n",
      "(array([77], dtype=int64),)\n",
      "(array([0], dtype=int64),)\n",
      "(array([76], dtype=int64),)\n",
      "(array([78], dtype=int64),)\n",
      "(array([3], dtype=int64),)\n",
      "(array([77], dtype=int64),)\n",
      "(array([76], dtype=int64),)\n",
      "(array([1], dtype=int64),)\n",
      "(array([0], dtype=int64),)\n",
      "(array([77], dtype=int64),)\n",
      "(array([77], dtype=int64),)\n",
      "(array([31], dtype=int64),)\n",
      "(array([76], dtype=int64),)\n",
      "(array([79], dtype=int64),)\n",
      "(array([30], dtype=int64),)\n",
      "(array([0], dtype=int64),)\n",
      "(array([77], dtype=int64),)\n",
      "(array([77], dtype=int64),)\n",
      "(array([20], dtype=int64),)\n",
      "(array([76], dtype=int64),)\n",
      "(array([79], dtype=int64),)\n",
      "(array([32], dtype=int64),)\n",
      "(array([78], dtype=int64),)\n",
      "(array([78], dtype=int64),)\n",
      "(array([7], dtype=int64),)\n",
      "(array([8], dtype=int64),)\n",
      "(array([2], dtype=int64),)\n",
      "(array([77], dtype=int64),)\n",
      "(array([78], dtype=int64),)\n",
      "(array([5], dtype=int64),)\n",
      "(array([77], dtype=int64),)\n",
      "(array([78], dtype=int64),)\n",
      "(array([1], dtype=int64),)\n",
      "(array([78], dtype=int64),)\n",
      "(array([79], dtype=int64),)\n",
      "(array([30], dtype=int64),)\n",
      "(array([78], dtype=int64),)\n",
      "(array([79], dtype=int64),)\n",
      "(array([30], dtype=int64),)\n",
      "(array([3], dtype=int64),)\n",
      "(array([1], dtype=int64),)\n",
      "(array([0], dtype=int64),)\n",
      "(array([78], dtype=int64),)\n",
      "(array([77], dtype=int64),)\n",
      "(array([32], dtype=int64),)\n",
      "(array([12], dtype=int64),)\n",
      "(array([79], dtype=int64),)\n",
      "(array([78], dtype=int64),)\n",
      "(array([11], dtype=int64),)\n",
      "(array([79], dtype=int64),)\n",
      "(array([79], dtype=int64),)\n",
      "(array([32], dtype=int64),)\n",
      "(array([7], dtype=int64),)\n",
      "(array([3], dtype=int64),)\n",
      "(array([1], dtype=int64),)\n",
      "(array([1], dtype=int64),)\n",
      "(array([79], dtype=int64),)\n",
      "(array([79], dtype=int64),)\n",
      "(array([31], dtype=int64),)\n",
      "(array([2], dtype=int64),)\n",
      "(array([79], dtype=int64),)\n",
      "(array([79], dtype=int64),)\n",
      "(array([5], dtype=int64),)\n",
      "(array([4], dtype=int64),)\n",
      "(array([79], dtype=int64),)\n",
      "(array([78], dtype=int64),)\n",
      "(array([18], dtype=int64),)\n",
      "(array([3], dtype=int64),)\n",
      "(array([1], dtype=int64),)\n",
      "(array([79], dtype=int64),)\n",
      "(array([79], dtype=int64),)\n",
      "(array([30], dtype=int64),)\n",
      "(array([20], dtype=int64),)\n",
      "(array([5], dtype=int64),)\n",
      "(array([1], dtype=int64),)\n",
      "(array([1], dtype=int64),)\n",
      "(array([0], dtype=int64),)\n",
      "(array([78], dtype=int64),)\n",
      "(array([78], dtype=int64),)\n",
      "(array([10], dtype=int64),)\n",
      "(array([3], dtype=int64),)\n",
      "(array([79], dtype=int64),)\n",
      "(array([79], dtype=int64),)\n",
      "(array([30], dtype=int64),)\n",
      "(array([14], dtype=int64),)\n",
      "(array([6], dtype=int64),)\n",
      "(array([1], dtype=int64),)\n",
      "(array([0], dtype=int64),)\n",
      "(array([79], dtype=int64),)\n",
      "(array([79], dtype=int64),)\n",
      "(array([10], dtype=int64),)\n",
      "(array([5], dtype=int64),)\n",
      "(array([1], dtype=int64),)\n",
      "(array([78], dtype=int64),)\n",
      "(array([79], dtype=int64),)\n",
      "(array([15], dtype=int64),)\n",
      "(array([3], dtype=int64),)\n",
      "(array([79], dtype=int64),)\n",
      "(array([79], dtype=int64),)\n",
      "(array([19], dtype=int64),)\n",
      "(array([0], dtype=int64),)\n",
      "(array([0], dtype=int64),)\n",
      "(array([0], dtype=int64),)\n",
      "(array([79], dtype=int64),)\n",
      "(array([79], dtype=int64),)\n",
      "(array([32], dtype=int64),)\n",
      "(array([11], dtype=int64),)\n",
      "(array([1], dtype=int64),)\n",
      "(array([0], dtype=int64),)\n",
      "(array([79], dtype=int64),)\n",
      "(array([79], dtype=int64),)\n",
      "(array([21], dtype=int64),)\n",
      "(array([2], dtype=int64),)\n",
      "(array([79], dtype=int64),)\n",
      "(array([79], dtype=int64),)\n",
      "(array([19], dtype=int64),)\n",
      "(array([8], dtype=int64),)\n",
      "(array([4], dtype=int64),)\n",
      "(array([0], dtype=int64),)\n",
      "(array([79], dtype=int64),)\n",
      "(array([79], dtype=int64),)\n",
      "(array([29], dtype=int64),)\n",
      "(array([18], dtype=int64),)\n",
      "(array([2], dtype=int64),)\n",
      "(array([1], dtype=int64),)\n",
      "(array([1], dtype=int64),)\n",
      "(array([79], dtype=int64),)\n",
      "(array([79], dtype=int64),)\n",
      "(array([33], dtype=int64),)\n",
      "(array([10], dtype=int64),)\n",
      "(array([10], dtype=int64),)\n",
      "(array([3], dtype=int64),)\n",
      "(array([2], dtype=int64),)\n",
      "(array([79], dtype=int64),)\n",
      "(array([79], dtype=int64),)\n",
      "(array([15], dtype=int64),)\n",
      "(array([79], dtype=int64),)\n",
      "(array([79], dtype=int64),)\n",
      "(array([29], dtype=int64),)\n",
      "(array([11], dtype=int64),)\n",
      "(array([2], dtype=int64),)\n",
      "(array([1], dtype=int64),)\n",
      "(array([2], dtype=int64),)\n",
      "(array([1], dtype=int64),)\n",
      "(array([79], dtype=int64),)\n",
      "(array([79], dtype=int64),)\n",
      "(array([18], dtype=int64),)\n",
      "(array([14], dtype=int64),)\n",
      "(array([7], dtype=int64),)\n",
      "(array([1], dtype=int64),)\n",
      "(array([79], dtype=int64),)\n",
      "(array([79], dtype=int64),)\n",
      "(array([13], dtype=int64),)\n",
      "(array([9], dtype=int64),)\n",
      "(array([79], dtype=int64),)\n",
      "(array([79], dtype=int64),)\n",
      "(array([33], dtype=int64),)\n",
      "(array([20], dtype=int64),)\n",
      "(array([7], dtype=int64),)\n",
      "(array([0], dtype=int64),)\n",
      "(array([79], dtype=int64),)\n",
      "(array([79], dtype=int64),)\n",
      "(array([11], dtype=int64),)\n",
      "(array([4], dtype=int64),)\n",
      "(array([79], dtype=int64),)\n",
      "(array([79], dtype=int64),)\n",
      "(array([2], dtype=int64),)\n",
      "(array([79], dtype=int64),)\n",
      "(array([79], dtype=int64),)\n",
      "(array([30], dtype=int64),)\n",
      "(array([0], dtype=int64),)\n",
      "(array([79], dtype=int64),)\n",
      "(array([79], dtype=int64),)\n",
      "(array([28], dtype=int64),)\n",
      "(array([9], dtype=int64),)\n",
      "(array([0], dtype=int64),)\n",
      "(array([79], dtype=int64),)\n",
      "(array([79], dtype=int64),)\n",
      "(array([2], dtype=int64),)\n",
      "(array([1], dtype=int64),)\n",
      "(array([79], dtype=int64),)\n",
      "(array([79], dtype=int64),)\n",
      "(array([17], dtype=int64),)\n",
      "(array([12], dtype=int64),)\n",
      "(array([79], dtype=int64),)\n",
      "(array([79], dtype=int64),)\n",
      "(array([1], dtype=int64),)\n",
      "(array([1], dtype=int64),)\n",
      "(array([0], dtype=int64),)\n",
      "(array([79], dtype=int64),)\n",
      "(array([79], dtype=int64),)\n",
      "(array([31], dtype=int64),)\n",
      "(array([5], dtype=int64),)\n",
      "(array([2], dtype=int64),)\n",
      "(array([78], dtype=int64),)\n",
      "(array([79], dtype=int64),)\n",
      "(array([34], dtype=int64),)\n",
      "(array([18], dtype=int64),)\n",
      "(array([4], dtype=int64),)\n"
     ]
    }
   ],
   "source": [
    "tol = np.arange(0,100,1) # Tolerance\n",
    "dat_mean = []\n",
    "for sdev in [10,20,30,40]:\n",
    "    resres1 = []\n",
    "    resres2 = []\n",
    "    for rep in range(15):\n",
    "        res1 = np.empty(100) #Save smax\n",
    "        res2 = np.empty(100) #Save sprop\n",
    "        for i in tol:\n",
    "            lisq = ob1.simul_global_evol(i, 0.0, 150000, 80, sdev= sdev ,tipe = 'normal', mean = 50 )\n",
    "            smax, sprop = most_frequent_value(lisq,80)\n",
    "            res1[i] = smax\n",
    "            res2[i] = sprop\n",
    "        resres1.append(res1)\n",
    "        resres2.append(res2)\n",
    "    dat_mean.append(np.mean(resres1, axis =0))"
   ]
  },
  {
   "cell_type": "code",
   "execution_count": 45,
   "id": "99e362ff",
   "metadata": {},
   "outputs": [
    {
     "data": {
      "image/png": "[encoded data removed]",
      "text/plain": [
       "<Figure size 432x288 with 1 Axes>"
      ]
     },
     "metadata": {
      "needs_background": "light"
     },
     "output_type": "display_data"
    }
   ],
   "source": [
    "stan = [10,20,30,40]\n",
    "for i in range( len(dat_mean)):\n",
    "    plt.plot(tol/100,abs(dat_mean[i])/1000,'.-',label = f'sdev ={stan[i]}')\n",
    "plt.legend()\n",
    "plt.xlabel(r'$\\mu/p$')\n",
    "plt.ylabel(r'$S_{max}$')\n",
    "plt.savefig('Images/smax_vs_mu_n1000_p100_i0.0_prop80_nor_mean50.png',dpi =400)"
   ]
  },
  {
   "cell_type": "code",
   "execution_count": 46,
   "id": "128db138",
   "metadata": {},
   "outputs": [
    {
     "data": {
      "text/html": [
       "<div>\n",
       "<style scoped>\n",
       "    .dataframe tbody tr th:only-of-type {\n",
       "        vertical-align: middle;\n",
       "    }\n",
       "\n",
       "    .dataframe tbody tr th {\n",
       "        vertical-align: top;\n",
       "    }\n",
       "\n",
       "    .dataframe thead th {\n",
       "        text-align: right;\n",
       "    }\n",
       "</style>\n",
       "<table border=\"1\" class=\"dataframe\">\n",
       "  <thead>\n",
       "    <tr style=\"text-align: right;\">\n",
       "      <th></th>\n",
       "      <th>0</th>\n",
       "      <th>1</th>\n",
       "      <th>2</th>\n",
       "      <th>3</th>\n",
       "      <th>4</th>\n",
       "      <th>5</th>\n",
       "      <th>6</th>\n",
       "      <th>7</th>\n",
       "      <th>8</th>\n",
       "      <th>9</th>\n",
       "      <th>...</th>\n",
       "      <th>90</th>\n",
       "      <th>91</th>\n",
       "      <th>92</th>\n",
       "      <th>93</th>\n",
       "      <th>94</th>\n",
       "      <th>95</th>\n",
       "      <th>96</th>\n",
       "      <th>97</th>\n",
       "      <th>98</th>\n",
       "      <th>99</th>\n",
       "    </tr>\n",
       "  </thead>\n",
       "  <tbody>\n",
       "    <tr>\n",
       "      <th>10</th>\n",
       "      <td>48.133333</td>\n",
       "      <td>49.266667</td>\n",
       "      <td>141.066667</td>\n",
       "      <td>275.466667</td>\n",
       "      <td>291.066667</td>\n",
       "      <td>334.600000</td>\n",
       "      <td>511.266667</td>\n",
       "      <td>456.400000</td>\n",
       "      <td>593.733333</td>\n",
       "      <td>626.933333</td>\n",
       "      <td>...</td>\n",
       "      <td>1000.000000</td>\n",
       "      <td>1000.000000</td>\n",
       "      <td>1000.000000</td>\n",
       "      <td>1000.000000</td>\n",
       "      <td>1000.000000</td>\n",
       "      <td>1000.000000</td>\n",
       "      <td>1000.000000</td>\n",
       "      <td>1000.000000</td>\n",
       "      <td>1000.0</td>\n",
       "      <td>1000.0</td>\n",
       "    </tr>\n",
       "    <tr>\n",
       "      <th>20</th>\n",
       "      <td>27.866667</td>\n",
       "      <td>27.800000</td>\n",
       "      <td>85.533333</td>\n",
       "      <td>129.200000</td>\n",
       "      <td>171.733333</td>\n",
       "      <td>225.133333</td>\n",
       "      <td>247.000000</td>\n",
       "      <td>293.933333</td>\n",
       "      <td>308.266667</td>\n",
       "      <td>362.133333</td>\n",
       "      <td>...</td>\n",
       "      <td>1000.000000</td>\n",
       "      <td>1000.000000</td>\n",
       "      <td>1000.000000</td>\n",
       "      <td>1000.000000</td>\n",
       "      <td>1000.000000</td>\n",
       "      <td>1000.000000</td>\n",
       "      <td>1000.000000</td>\n",
       "      <td>1000.000000</td>\n",
       "      <td>1000.0</td>\n",
       "      <td>1000.0</td>\n",
       "    </tr>\n",
       "    <tr>\n",
       "      <th>30</th>\n",
       "      <td>56.266667</td>\n",
       "      <td>55.733333</td>\n",
       "      <td>63.800000</td>\n",
       "      <td>89.466667</td>\n",
       "      <td>119.466667</td>\n",
       "      <td>155.800000</td>\n",
       "      <td>181.066667</td>\n",
       "      <td>184.800000</td>\n",
       "      <td>227.800000</td>\n",
       "      <td>240.000000</td>\n",
       "      <td>...</td>\n",
       "      <td>975.533333</td>\n",
       "      <td>974.866667</td>\n",
       "      <td>1000.000000</td>\n",
       "      <td>1000.000000</td>\n",
       "      <td>1000.000000</td>\n",
       "      <td>1000.000000</td>\n",
       "      <td>1000.000000</td>\n",
       "      <td>1000.000000</td>\n",
       "      <td>1000.0</td>\n",
       "      <td>1000.0</td>\n",
       "    </tr>\n",
       "    <tr>\n",
       "      <th>40</th>\n",
       "      <td>115.333333</td>\n",
       "      <td>114.466667</td>\n",
       "      <td>125.666667</td>\n",
       "      <td>127.600000</td>\n",
       "      <td>134.600000</td>\n",
       "      <td>141.133333</td>\n",
       "      <td>159.333333</td>\n",
       "      <td>177.200000</td>\n",
       "      <td>188.000000</td>\n",
       "      <td>197.333333</td>\n",
       "      <td>...</td>\n",
       "      <td>972.466667</td>\n",
       "      <td>992.533333</td>\n",
       "      <td>986.133333</td>\n",
       "      <td>985.733333</td>\n",
       "      <td>990.666667</td>\n",
       "      <td>968.666667</td>\n",
       "      <td>927.066667</td>\n",
       "      <td>979.933333</td>\n",
       "      <td>1000.0</td>\n",
       "      <td>1000.0</td>\n",
       "    </tr>\n",
       "  </tbody>\n",
       "</table>\n",
       "<p>4 rows × 100 columns</p>\n",
       "</div>"
      ],
      "text/plain": [
       "            0           1           2           3           4           5   \\\n",
       "10   48.133333   49.266667  141.066667  275.466667  291.066667  334.600000   \n",
       "20   27.866667   27.800000   85.533333  129.200000  171.733333  225.133333   \n",
       "30   56.266667   55.733333   63.800000   89.466667  119.466667  155.800000   \n",
       "40  115.333333  114.466667  125.666667  127.600000  134.600000  141.133333   \n",
       "\n",
       "            6           7           8           9   ...           90  \\\n",
       "10  511.266667  456.400000  593.733333  626.933333  ...  1000.000000   \n",
       "20  247.000000  293.933333  308.266667  362.133333  ...  1000.000000   \n",
       "30  181.066667  184.800000  227.800000  240.000000  ...   975.533333   \n",
       "40  159.333333  177.200000  188.000000  197.333333  ...   972.466667   \n",
       "\n",
       "             91           92           93           94           95  \\\n",
       "10  1000.000000  1000.000000  1000.000000  1000.000000  1000.000000   \n",
       "20  1000.000000  1000.000000  1000.000000  1000.000000  1000.000000   \n",
       "30   974.866667  1000.000000  1000.000000  1000.000000  1000.000000   \n",
       "40   992.533333   986.133333   985.733333   990.666667   968.666667   \n",
       "\n",
       "             96           97      98      99  \n",
       "10  1000.000000  1000.000000  1000.0  1000.0  \n",
       "20  1000.000000  1000.000000  1000.0  1000.0  \n",
       "30  1000.000000  1000.000000  1000.0  1000.0  \n",
       "40   927.066667   979.933333  1000.0  1000.0  \n",
       "\n",
       "[4 rows x 100 columns]"
      ]
     },
     "execution_count": 46,
     "metadata": {},
     "output_type": "execute_result"
    }
   ],
   "source": [
    "dataset = pd.DataFrame(dat_mean, index = stan)\n",
    "dataset.head()"
   ]
  },
  {
   "cell_type": "code",
   "execution_count": 47,
   "id": "06ec562d",
   "metadata": {},
   "outputs": [],
   "source": [
    "dataset.to_csv('data_analyzed/smax_n1000_p100_i0.0_prop80_nor_mean50.csv')"
   ]
  },
  {
   "cell_type": "markdown",
   "id": "8738824c",
   "metadata": {},
   "source": []
  }
 ],
 "metadata": {
  "kernelspec": {
   "display_name": "Python 3 (ipykernel)",
   "language": "python",
   "name": "python3"
  },
  "language_info": {
   "codemirror_mode": {
    "name": "ipython",
    "version": 3
   },
   "file_extension": ".py",
   "mimetype": "text/x-python",
   "name": "python",
   "nbconvert_exporter": "python",
   "pygments_lexer": "ipython3",
   "version": "3.9.13"
  }
 },
 "nbformat": 4,
 "nbformat_minor": 5
}
