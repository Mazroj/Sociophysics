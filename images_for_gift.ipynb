{
 "cells": [
  {
   "cell_type": "code",
   "execution_count": 119,
   "id": "fdd8777c",
   "metadata": {},
   "outputs": [],
   "source": [
    "import numpy as np\n",
    "import pandas as pd\n",
    "import matplotlib.pyplot as plt\n",
    "from tqdm import tqdm\n",
    "import random"
   ]
  },
  {
   "cell_type": "code",
   "execution_count": 120,
   "id": "aa2b5f51",
   "metadata": {},
   "outputs": [],
   "source": [
    "def make_hist(x,options,t, tole,inten):\n",
    "    \n",
    "    plt.figure(figsize =(6,5))\n",
    "    plt.hist(x,bins = options)\n",
    "    plt.xlabel('Opinion')\n",
    "    plt.ylabel('Frecuency')\n",
    "    plt.xlim(0,99)\n",
    "    plt.ylim(0,500)\n",
    "    plt.title(f\"Tolerance ={tole} and Intensity ={inten}\")\n",
    "    plt.savefig(f'animation_global_n1000_p100/simul_glo_n1000_p100_t{t}.png')\n",
    "    plt.close()\n",
    "    \n",
    "    return\n",
    "\n",
    "#Defining the creation of a new network\n",
    "def nuevared(size,options):\n",
    "    x = np.random.randint(0,options,size=(1,size),dtype=int)\n",
    "    return(x[0])"
   ]
  },
  {
   "cell_type": "code",
   "execution_count": 131,
   "id": "b4ccf55d",
   "metadata": {},
   "outputs": [
    {
     "name": "stderr",
     "output_type": "stream",
     "text": [
      "100%|██████████████████████████████████████████████████████████████████████████████| 6000/6000 [00:35<00:00, 167.76it/s]\n"
     ]
    }
   ],
   "source": [
    "options =10\n",
    "size = 100\n",
    "intensity = 0.9\n",
    "tolerance = 3\n",
    "propaganda = 8\n",
    "x = nuevared(size,options)\n",
    "for T in tqdm(range(0,6000)):\n",
    "    \n",
    "    for i in range(size):\n",
    "        r = random.randint(0,size-1)\n",
    "        if intensity > random.uniform(0,1):\n",
    "            if abs(propaganda- x[i])<= tolerance:\n",
    "                    x[i] = propaganda\n",
    "        else:\n",
    "            d = (x[r] - x[i])\n",
    "            if abs(d) <= tolerance:\n",
    "                x[i]=x[r]\n",
    "                        \n",
    "    crit = np.unique(np.array(x))\n",
    "    \n",
    "    if  T%20 ==0: \n",
    "        make_hist(x,options,T,tolerance, intensity)\n",
    "        \n",
    "    if len(crit) == 1 and T % 200 == 0:\n",
    "        break\n",
    "    \n",
    "    "
   ]
  },
  {
   "cell_type": "code",
   "execution_count": 134,
   "id": "d33c13cb",
   "metadata": {},
   "outputs": [],
   "source": [
    "from PIL import Image\n",
    "import imageio\n",
    "\n",
    "#The list of image filenames to be included in the GIF\n",
    "image_files= []\n",
    "for T in range(0,6000,20):\n",
    "    image_files.append(f'animation_global_n1000_p100/simul_glo_n1000_p100_t{T}.png')\n"
   ]
  },
  {
   "cell_type": "code",
   "execution_count": 135,
   "id": "1bff7eca",
   "metadata": {},
   "outputs": [
    {
     "name": "stderr",
     "output_type": "stream",
     "text": [
      "100%|████████████████████████████████████████████████████████████████████████████████| 300/300 [00:00<00:00, 552.80it/s]\n"
     ]
    }
   ],
   "source": [
    "#Open all the images and add them to a list\n",
    "images = []\n",
    "for file in tqdm(image_files):\n",
    "    images.append(Image.open(file))\n",
    "\n",
    "#Sort images by width\n",
    "images.sort(key=lambda x: x.width)\n",
    "\n",
    "# Save the images as a GIF with a specified delay between frames\n",
    "imageio.mimsave(\"test_stop_condition_1.gif\", images, duration=0.1)"
   ]
  },
  {
   "cell_type": "markdown",
   "id": "5955e79c",
   "metadata": {},
   "source": [
    "## Test of Stop Condition"
   ]
  },
  {
   "cell_type": "code",
   "execution_count": 1,
   "id": "cd15118b",
   "metadata": {},
   "outputs": [],
   "source": [
    "import numpy as np\n",
    "import pandas as pd\n",
    "import matplotlib.pyplot as plt\n",
    "from tqdm import tqdm\n",
    "import random"
   ]
  },
  {
   "cell_type": "code",
   "execution_count": 2,
   "id": "1ca73917",
   "metadata": {},
   "outputs": [],
   "source": [
    "#Defining the creation of a new network\n",
    "def nuevared(size,options):\n",
    "    x = np.random.randint(0,options,size=(1,size),dtype=int)\n",
    "    return(x[0])"
   ]
  },
  {
   "cell_type": "code",
   "execution_count": 248,
   "id": "1626fd43",
   "metadata": {},
   "outputs": [
    {
     "name": "stdout",
     "output_type": "stream",
     "text": [
      "Done at time: 15000\n"
     ]
    }
   ],
   "source": [
    "options =100\n",
    "size = 1000\n",
    "intensity = 0.9\n",
    "tolerance = 50\n",
    "propaganda = 80\n",
    "x = nuevared(size,options)\n",
    "his = []\n",
    "T = 0\n",
    "while T < 100000:\n",
    "    for i in range(size):\n",
    "        r = random.randint(0,size-1)\n",
    "        if intensity > random.uniform(0,1):\n",
    "            if abs(propaganda- x[i])<= tolerance:\n",
    "                x[i] = propaganda\n",
    "        else:\n",
    "            d = (x[r] - x[i])\n",
    "            if abs(d) <= tolerance:\n",
    "                x[i]=x[r]\n",
    "            \n",
    "    if T % 500 ==0 :\n",
    "        his.append(x.copy())\n",
    "        \n",
    "    if len(his) >= 6:\n",
    "        if (his[-1]== his[-2]).all() and T >3000  :\n",
    "            break\n",
    "    T += 1\n",
    "    \n",
    "    "
   ]
  },
  {
   "cell_type": "code",
   "execution_count": 249,
   "id": "a8dd29b5",
   "metadata": {},
   "outputs": [
    {
     "name": "stdout",
     "output_type": "stream",
     "text": [
      "True\n",
      "True\n"
     ]
    }
   ],
   "source": [
    "print((his[-2]== his[-1]).all())\n",
    "print((presumable== his[-1]).all())"
   ]
  },
  {
   "cell_type": "code",
   "execution_count": 250,
   "id": "15d64c76",
   "metadata": {},
   "outputs": [
    {
     "data": {
      "text/plain": [
       "False"
      ]
     },
     "execution_count": 250,
     "metadata": {},
     "output_type": "execute_result"
    }
   ],
   "source": [
    "(his[1]== his[-2]).all()"
   ]
  },
  {
   "cell_type": "code",
   "execution_count": 251,
   "id": "cef275ed",
   "metadata": {},
   "outputs": [
    {
     "data": {
      "image/png": "[encoded data removed]",
      "text/plain": [
       "<Figure size 640x480 with 1 Axes>"
      ]
     },
     "metadata": {},
     "output_type": "display_data"
    }
   ],
   "source": [
    "plt.hist(x,bins = 100)\n",
    "plt.show()"
   ]
  },
  {
   "cell_type": "code",
   "execution_count": null,
   "id": "6bf7b3d3",
   "metadata": {},
   "outputs": [],
   "source": []
  }
 ],
 "metadata": {
  "kernelspec": {
   "display_name": "Python 3 (ipykernel)",
   "language": "python",
   "name": "python3"
  },
  "language_info": {
   "codemirror_mode": {
    "name": "ipython",
    "version": 3
   },
   "file_extension": ".py",
   "mimetype": "text/x-python",
   "name": "python",
   "nbconvert_exporter": "python",
   "pygments_lexer": "ipython3",
   "version": "3.9.13"
  }
 },
 "nbformat": 4,
 "nbformat_minor": 5
}
