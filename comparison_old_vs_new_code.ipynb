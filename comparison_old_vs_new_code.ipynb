{
 "cells": [
  {
   "cell_type": "markdown",
   "id": "dd1330a0",
   "metadata": {},
   "source": [
    "# Comparison old vs new code"
   ]
  },
  {
   "cell_type": "code",
   "execution_count": 1,
   "id": "70a141fe",
   "metadata": {},
   "outputs": [],
   "source": [
    "import numpy as np\n",
    "import matplotlib.pyplot as plt\n",
    "import pandas as pd\n",
    "import random "
   ]
  },
  {
   "cell_type": "markdown",
   "id": "e984e49e",
   "metadata": {},
   "source": [
    "## Function of new red"
   ]
  },
  {
   "cell_type": "code",
   "execution_count": 2,
   "id": "8c84e290",
   "metadata": {},
   "outputs": [],
   "source": [
    "def nuevared_old(n,p):\n",
    "  x = []\n",
    "  for i in range(n):\n",
    "    x.append(int(random.uniform(0,p)))\n",
    "  return(x)\n",
    "\n",
    "def nuevared_new(size,options):\n",
    "    x = []\n",
    "    for i in range(size):\n",
    "        x.append(int(random.uniform(0,options)))\n",
    "    return(x)"
   ]
  },
  {
   "cell_type": "code",
   "execution_count": 3,
   "id": "1d2f2bd5",
   "metadata": {},
   "outputs": [],
   "source": [
    "def meanvalue(listoflist):\n",
    "    loft = np.array(listoflist).T\n",
    "    mv = []\n",
    "    for i in loft:\n",
    "        ar = np.mean(i)\n",
    "        mv.append(ar)\n",
    "    return mv"
   ]
  },
  {
   "cell_type": "code",
   "execution_count": 4,
   "id": "3ca6f5cb",
   "metadata": {},
   "outputs": [
    {
     "name": "stdout",
     "output_type": "stream",
     "text": [
      "28.847430730924057 28.848056659235297\n"
     ]
    }
   ],
   "source": [
    "men_old = []\n",
    "men_new = []\n",
    "sd_old = []\n",
    "sd_new = []\n",
    "for rep in range(10000):\n",
    "    qe_old = np.array(nuevared_old(1000,100)) \n",
    "    qe_new = np.array(nuevared_new(1000,100))\n",
    "    men_old.append(np.mean(qe_old))\n",
    "    men_new.append(np.mean(qe_new))\n",
    "    sd_old.append(np.std(qe_old))\n",
    "    sd_new.append(np.std(qe_new))\n",
    "    \n",
    "print(np.mean(sd_old),np.mean(sd_new))"
   ]
  },
  {
   "cell_type": "markdown",
   "id": "5e6be8c7",
   "metadata": {},
   "source": [
    "Results are almost the same, then both function works almost in the same way."
   ]
  },
  {
   "cell_type": "markdown",
   "id": "def80083",
   "metadata": {},
   "source": [
    "## Function to count"
   ]
  },
  {
   "cell_type": "code",
   "execution_count": 4,
   "id": "c8753ef5",
   "metadata": {},
   "outputs": [],
   "source": [
    "def cont_old(x,p):\n",
    "    dat = []\n",
    "    for j in range(p):\n",
    "      s = 0\n",
    "      for i in x:\n",
    "        if j == i: \n",
    "          s += 1\n",
    "      dat.append(s)\n",
    "    return(dat)\n",
    "\n",
    "def cont_new(x,p):\n",
    "    dat = []\n",
    "    for j in range(p):\n",
    "      s = 0\n",
    "      for i in x:\n",
    "        if j == i: \n",
    "          s += 1\n",
    "      dat.append(s)\n",
    "    return(dat)"
   ]
  },
  {
   "cell_type": "markdown",
   "id": "d326d431",
   "metadata": {},
   "source": [
    "They are the same functions"
   ]
  },
  {
   "cell_type": "markdown",
   "id": "6ff10a83",
   "metadata": {},
   "source": [
    "## Function of Simulation"
   ]
  },
  {
   "cell_type": "code",
   "execution_count": 23,
   "id": "3f59ec07",
   "metadata": {},
   "outputs": [],
   "source": [
    "def simul_global_evol_new(tolerance,intensity):\n",
    "    x = nuevared_new(size,options)\n",
    "    for T in range(time):\n",
    "        for i in range(size):\n",
    "            r = random.randint(0,size-1)\n",
    "            if intensity > random.uniform(0,1):\n",
    "                if abs(propaganda- x[i])<= tolerance:\n",
    "                    x[i] = propaganda\n",
    "                else:\n",
    "                    d = (x[r] - x[i])\n",
    "                    if abs(d) <= tolerance:\n",
    "                        x[i]=x[r]\n",
    "    return(x)\n",
    "\n",
    "def simul_global_evol_old(tolerance, intensity):\n",
    "    x = nuevared_old(size,options)\n",
    "    for T in range(time):\n",
    "        for i in range(size):\n",
    "            r = random.randint(0,size-1)\n",
    "            if intensity > random.uniform(0,1):\n",
    "                if abs(propaganda- x[i])<= tolerance:\n",
    "                    x[i] = propaganda\n",
    "                else:\n",
    "                    d = (x[r] - x[i])\n",
    "                    if abs(d) <= tolerance:\n",
    "                        x[i]=x[r]\n",
    "    return(x)"
   ]
  },
  {
   "cell_type": "markdown",
   "id": "12939836",
   "metadata": {},
   "source": [
    "The diference is not in this part if the code, but in the fact that the mean value is obtaioned before varying the intensity "
   ]
  },
  {
   "cell_type": "code",
   "execution_count": 56,
   "id": "99d7aac3",
   "metadata": {},
   "outputs": [],
   "source": [
    "size = 100\n",
    "options = 25\n",
    "time = 7000\n",
    "tolerance = 10\n",
    "intensity = 0.4\n",
    "propaganda = 20"
   ]
  },
  {
   "cell_type": "code",
   "execution_count": 64,
   "id": "671b6712",
   "metadata": {},
   "outputs": [
    {
     "data": {
      "image/png": "[encoded data removed]",
      "text/plain": [
       "<Figure size 640x480 with 2 Axes>"
      ]
     },
     "metadata": {},
     "output_type": "display_data"
    }
   ],
   "source": [
    "listrep_old = []\n",
    "listrep_new = []\n",
    "for rep in range(500):\n",
    "    ejm_sim_old = simul_global_evol_old(tolerance,intensity)\n",
    "    ejm_sim_new = simul_global_evol_new(tolerance,intensity)\n",
    "    listrep_old.append(ejm_sim_old)\n",
    "    listrep_new.append(ejm_sim_new)\n",
    "    \n",
    "mean_ejm_old = meanvalue(listrep_old)\n",
    "mean_ejm_new = meanvalue(listrep_new)\n",
    "\n",
    "\n",
    "plt.subplot(211)\n",
    "\n",
    "plt.hist(mean_ejm_old,bins=25)\n",
    "plt.xlim(0,25)\n",
    "\n",
    "plt.subplot(212)\n",
    "plt.hist(mean_ejm_new,bins=25)\n",
    "plt.xlim(0,25)\n",
    "\n",
    "plt.show()"
   ]
  },
  {
   "cell_type": "code",
   "execution_count": 65,
   "id": "b4f10874",
   "metadata": {},
   "outputs": [
    {
     "data": {
      "text/plain": [
       "100"
      ]
     },
     "execution_count": 65,
     "metadata": {},
     "output_type": "execute_result"
    }
   ],
   "source": [
    "len(mean_ejm_new)"
   ]
  },
  {
   "cell_type": "code",
   "execution_count": 66,
   "id": "78d00b0b",
   "metadata": {},
   "outputs": [],
   "source": [
    "size = 100\n",
    "options = 25\n",
    "time = 7000\n",
    "tolerance = 4\n",
    "intensity = 0.4\n",
    "propaganda = 20"
   ]
  },
  {
   "cell_type": "code",
   "execution_count": 67,
   "id": "1881a7ee",
   "metadata": {},
   "outputs": [
    {
     "data": {
      "image/png": "[encoded data removed]",
      "text/plain": [
       "<Figure size 640x480 with 2 Axes>"
      ]
     },
     "metadata": {},
     "output_type": "display_data"
    }
   ],
   "source": [
    "listrep_old = []\n",
    "listrep_new = []\n",
    "for rep in range(500):\n",
    "    ejm_sim_old = simul_global_evol_old(tolerance,intensity)\n",
    "    ejm_sim_new = simul_global_evol_new(tolerance,intensity)\n",
    "    listrep_old.append(ejm_sim_old)\n",
    "    listrep_new.append(ejm_sim_new)\n",
    "    \n",
    "mean_ejm_old = meanvalue(listrep_old)\n",
    "mean_ejm_new = meanvalue(listrep_new)\n",
    "\n",
    "\n",
    "plt.subplot(211)\n",
    "\n",
    "plt.hist(mean_ejm_old,bins=25)\n",
    "plt.xlim(0,25)\n",
    "\n",
    "plt.subplot(212)\n",
    "plt.hist(mean_ejm_new,bins=25)\n",
    "plt.xlim(0,25)\n",
    "\n",
    "plt.show()"
   ]
  },
  {
   "cell_type": "markdown",
   "id": "7c771627",
   "metadata": {},
   "source": [
    "Apperently both functions work in the same way."
   ]
  },
  {
   "cell_type": "code",
   "execution_count": 72,
   "id": "e14b4763",
   "metadata": {},
   "outputs": [],
   "source": [
    "size = 1000\n",
    "options = 100\n",
    "time = 5000\n",
    "tolerance = 5\n",
    "intensity = 0.95\n",
    "propaganda = 80"
   ]
  },
  {
   "cell_type": "code",
   "execution_count": 73,
   "id": "b81f53a6",
   "metadata": {},
   "outputs": [],
   "source": [
    "listrep_old = []\n",
    "listrep_new = []\n",
    "for rep in range(10):\n",
    "    ejm_sim_old = simul_global_evol_old(tolerance,intensity)\n",
    "    ejm_sim_new = simul_global_evol_new(tolerance,intensity)\n",
    "    listrep_old.append(ejm_sim_old)\n",
    "    listrep_new.append(ejm_sim_new)\n",
    "    \n",
    "mean_ejm_old = meanvalue(listrep_old)\n",
    "mean_ejm_new = meanvalue(listrep_new)\n"
   ]
  },
  {
   "cell_type": "code",
   "execution_count": 75,
   "id": "7827d149",
   "metadata": {},
   "outputs": [
    {
     "data": {
      "image/png": "[encoded data removed]",
      "text/plain": [
       "<Figure size 640x480 with 2 Axes>"
      ]
     },
     "metadata": {},
     "output_type": "display_data"
    }
   ],
   "source": [
    "plt.subplot(211)\n",
    "\n",
    "plt.hist(mean_ejm_old,bins=100)\n",
    "plt.xlim(0,100)\n",
    "\n",
    "plt.subplot(212)\n",
    "plt.hist(mean_ejm_new,bins=100)\n",
    "plt.xlim(0,100)\n",
    "\n",
    "plt.show()"
   ]
  },
  {
   "cell_type": "code",
   "execution_count": 6,
   "id": "bfe9d3ee",
   "metadata": {},
   "outputs": [],
   "source": [
    "def simul_global_evol_new(tolerance,intensity):\n",
    "    x = nuevared_new(size,options)\n",
    "    for T in range(time):\n",
    "        for i in range(size):\n",
    "            r = random.randint(0,size-1)\n",
    "            if intensity > random.uniform(0,1):\n",
    "                if abs(propaganda- x[i])<= tolerance:\n",
    "                    x[i] = propaganda\n",
    "            else:\n",
    "                d = (x[r] - x[i])\n",
    "                if abs(d) <= tolerance:\n",
    "                    x[i]=x[r]\n",
    "    return(x)\n"
   ]
  },
  {
   "cell_type": "code",
   "execution_count": 8,
   "id": "00fd3006",
   "metadata": {},
   "outputs": [
    {
     "data": {
      "image/png": "[encoded data removed]",
      "text/plain": [
       "<Figure size 640x480 with 1 Axes>"
      ]
     },
     "metadata": {},
     "output_type": "display_data"
    }
   ],
   "source": [
    "size = 100\n",
    "options = 25\n",
    "time = 7000\n",
    "tolerance = 10\n",
    "intensity = 0.4\n",
    "propaganda = 20\n",
    "\n",
    "listrep_new = []\n",
    "for rep in range(50):\n",
    "    ejm_sim_new = simul_global_evol_new(tolerance,intensity)\n",
    "    listrep_new.append(ejm_sim_new)\n",
    "    \n",
    "mean_ejm_new = meanvalue(listrep_new)\n",
    "\n",
    "\n",
    "\n",
    "plt.hist(mean_ejm_new,bins=25)\n",
    "plt.xlim(0,25)\n",
    "\n",
    "plt.show()"
   ]
  },
  {
   "cell_type": "code",
   "execution_count": null,
   "id": "feb8d6eb",
   "metadata": {},
   "outputs": [],
   "source": []
  }
 ],
 "metadata": {
  "kernelspec": {
   "display_name": "Python 3 (ipykernel)",
   "language": "python",
   "name": "python3"
  },
  "language_info": {
   "codemirror_mode": {
    "name": "ipython",
    "version": 3
   },
   "file_extension": ".py",
   "mimetype": "text/x-python",
   "name": "python",
   "nbconvert_exporter": "python",
   "pygments_lexer": "ipython3",
   "version": "3.9.13"
  }
 },
 "nbformat": 4,
 "nbformat_minor": 5
}
