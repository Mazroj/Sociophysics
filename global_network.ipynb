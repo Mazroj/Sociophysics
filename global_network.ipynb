{
 "cells": [
  {
   "cell_type": "code",
   "execution_count": 1,
   "id": "d665263d",
   "metadata": {},
   "outputs": [],
   "source": [
    "import numpy as np\n",
    "import random\n",
    "import pandas as pd\n",
    "import matplotlib.pyplot as plt\n",
    "from timebudget import timebudget\n",
    "from multiprocessing import Pool\n",
    "import ipyparallel as ipp"
   ]
  },
  {
   "cell_type": "code",
   "execution_count": 38,
   "id": "c4456c7a",
   "metadata": {},
   "outputs": [],
   "source": [
    "#Defining the creation of a new network\n",
    "def nuevared(size,options):\n",
    "    x = []\n",
    "    for i in range(size):\n",
    "        x.append(int(random.uniform(0,options)))\n",
    "    return(x)\n",
    "\n",
    "# Defining counting function\n",
    "def cont(x,p):\n",
    "    dat = []\n",
    "    for j in range(p):\n",
    "      s = 0\n",
    "      for i in x:\n",
    "        if j == i: \n",
    "          s += 1\n",
    "      dat.append(s)\n",
    "    return(dat)\n",
    "\n",
    "\n",
    "#This Function give the Smax, the S of propaganda and sigma\n",
    "def smax_sprop_sigma(mean_result_per_tolerance,propaganda):\n",
    "    smax = np.max(mean_result_per_tolerance)\n",
    "    sprop = mean_result_per_tolerance[propaganda]\n",
    "    sigma = abs(smax - sprop)\n",
    "    return smax, sprop, sigma"
   ]
  },
  {
   "cell_type": "code",
   "execution_count": null,
   "id": "4a96b945",
   "metadata": {},
   "outputs": [],
   "source": []
  },
  {
   "cell_type": "code",
   "execution_count": 3,
   "id": "a8a11926",
   "metadata": {},
   "outputs": [],
   "source": [
    "def simul_global_evol(tolerance,intensity):\n",
    "    x = nuevared(size,options)\n",
    "    for T in range(time):\n",
    "        for i in range(size):\n",
    "            r = random.randint(0,size-1)\n",
    "            if intensity > random.uniform(0,1):\n",
    "                if abs(propaganda- x[i])<= tolerance:\n",
    "                    x[i] = propaganda\n",
    "                else:\n",
    "                    d = (x[r] - x[i])\n",
    "                    if abs(d) <= tolerance:\n",
    "                        x[i]=x[r]\n",
    "    return(x)"
   ]
  },
  {
   "cell_type": "code",
   "execution_count": null,
   "id": "a0298186",
   "metadata": {},
   "outputs": [],
   "source": []
  },
  {
   "cell_type": "code",
   "execution_count": 4,
   "id": "4acf49e8",
   "metadata": {},
   "outputs": [],
   "source": [
    "def run_simulation(ident):\n",
    "    tolerance = np.linspace(1,options + 1,options + 1)\n",
    "    intensity = np.linspace(1/options,1,options)\n",
    "    for inten in intensity:\n",
    "        for tole in tolerance:\n",
    "            x = simul_global_evol(tole,inten)\n",
    "            df = pd.DataFrame(x)\n",
    "\n",
    "            df.to_csv(f\"data_global_intensity_i{inten}_t{tole}_{ident}\", index=False) "
   ]
  },
  {
   "cell_type": "code",
   "execution_count": 40,
   "id": "ecd47f07",
   "metadata": {},
   "outputs": [],
   "source": [
    "    \n",
    "        "
   ]
  },
  {
   "cell_type": "code",
   "execution_count": 5,
   "id": "f9fbef07",
   "metadata": {},
   "outputs": [
    {
     "name": "stdout",
     "output_type": "stream",
     "text": [
      "run_simul took 2172.445sec\n"
     ]
    }
   ],
   "source": [
    "@timebudget\n",
    "def run_simul(operation,input,pool):\n",
    "    pool.map(operation,input)\n",
    "    \n",
    "    \n",
    "    \n",
    "client_ids = ipp.Client()\n",
    "pool = client_ids[:]\n",
    "\n",
    "size = 300\n",
    "options = 30\n",
    "time = 5000\n",
    "propaganda = 24\n",
    "    \n",
    "    \n",
    "processes_count = 10\n",
    "processes_pool = Pool(processes_count)\n",
    "input = range(10)\n",
    "\n",
    "run_simul(run_simulation, input, processes_pool)\n",
    "\n",
    "    \n",
    "#processes_count = 10\n",
    "#if __name__ == '__main__':\n",
    "#    processes_pool = Pool(processes_count)\n",
    "#    run_simul(run_over_tolerance, range(10), processes_pool) "
   ]
  },
  {
   "cell_type": "markdown",
   "id": "dbeefc30",
   "metadata": {},
   "source": [
    "## Stop condition"
   ]
  },
  {
   "cell_type": "code",
   "execution_count": 3,
   "id": "46c9d764",
   "metadata": {},
   "outputs": [],
   "source": [
    "def simul_global_evol(tolerance,intensity):\n",
    "    x = nuevared(size,options)\n",
    "    while sigma\n",
    "        for i in range(size):\n",
    "            r = random.randint(0,size-1)\n",
    "            if intensity > random.uniform(0,1):\n",
    "                if abs(propaganda- x[i])<= tolerance:\n",
    "                    x[i] = propaganda\n",
    "                else:\n",
    "                    d = (x[r] - x[i])\n",
    "                    if abs(d) <= tolerance:\n",
    "                        x[i]=x[r]\n",
    "    return(x)"
   ]
  },
  {
   "cell_type": "code",
   "execution_count": 36,
   "id": "b2b220ca",
   "metadata": {},
   "outputs": [],
   "source": [
    "size = 1000\n",
    "options =100\n",
    "propaganda = 80\n",
    "\n",
    "time = 5000\n",
    "res1 = simul_global_evol(20,0.8)\n",
    "count_nodes_option = cont(np.transpose(df1)[0],options)\n",
    "smax, sprop, sigma = smax_sprop_sigma(count_nodes_option,propaganda)\n"
   ]
  },
  {
   "cell_type": "code",
   "execution_count": 37,
   "id": "f692ce3e",
   "metadata": {},
   "outputs": [
    {
     "data": {
      "image/png": "[encoded data removed]",
      "text/plain": [
       "<Figure size 640x480 with 6 Axes>"
      ]
     },
     "metadata": {},
     "output_type": "display_data"
    }
   ],
   "source": [
    "plt.subplots(3,2)\n",
    "\n",
    "plt.subplot(3,2,1)\n",
    "plt.hist(res1)\n",
    "\n",
    "plt.subplot(3,2,2)\n",
    "plt.hist(res2)\n",
    "\n",
    "plt.subplot(3,2,3)\n",
    "plt.hist(res3)\n",
    "\n",
    "plt.subplot(3,2,4)\n",
    "plt.hist(res4)\n",
    "\n",
    "plt.subplot(3,2,5)\n",
    "plt.hist(res5)\n",
    "\n",
    "plt.subplot(3,2,6)\n",
    "plt.hist(res6)\n",
    "\n",
    "plt.show()"
   ]
  },
  {
   "cell_type": "code",
   "execution_count": null,
   "id": "390b8c3d",
   "metadata": {},
   "outputs": [],
   "source": []
  },
  {
   "cell_type": "code",
   "execution_count": null,
   "id": "fbbe8fd7",
   "metadata": {},
   "outputs": [],
   "source": []
  }
 ],
 "metadata": {
  "kernelspec": {
   "display_name": "Python 3 (ipykernel)",
   "language": "python",
   "name": "python3"
  },
  "language_info": {
   "codemirror_mode": {
    "name": "ipython",
    "version": 3
   },
   "file_extension": ".py",
   "mimetype": "text/x-python",
   "name": "python",
   "nbconvert_exporter": "python",
   "pygments_lexer": "ipython3",
   "version": "3.9.13"
  }
 },
 "nbformat": 4,
 "nbformat_minor": 5
}
