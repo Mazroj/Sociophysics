{
 "cells": [
  {
   "cell_type": "code",
   "execution_count": 1,
   "id": "d665263d",
   "metadata": {},
   "outputs": [],
   "source": [
    "import numpy as np\n",
    "import random\n",
    "import pandas as pd\n",
    "import matplotlib.pyplot as plt\n",
    "from timebudget import timebudget\n",
    "from multiprocessing import Pool\n",
    "import ipyparallel as ipp"
   ]
  },
  {
   "cell_type": "code",
   "execution_count": 2,
   "id": "c4456c7a",
   "metadata": {},
   "outputs": [],
   "source": [
    "#Defining the creation of a new network\n",
    "def nuevared(size,options):\n",
    "    x = []\n",
    "    for i in range(size):\n",
    "        x.append(int(random.uniform(0,options)))\n",
    "    return(x)\n",
    "\n",
    "# Defining counting function\n",
    "def cont(x,p):\n",
    "    dat = []\n",
    "    for j in range(p):\n",
    "      s = 0\n",
    "      for i in x:\n",
    "        if j == i: \n",
    "          s += 1\n",
    "      dat.append(s)\n",
    "    return(dat)"
   ]
  },
  {
   "cell_type": "code",
   "execution_count": null,
   "id": "4a96b945",
   "metadata": {},
   "outputs": [],
   "source": []
  },
  {
   "cell_type": "code",
   "execution_count": 3,
   "id": "a8a11926",
   "metadata": {},
   "outputs": [],
   "source": [
    "def simul_global_evol(tolerance,intensity):\n",
    "    x = nuevared(size,options)\n",
    "    for T in range(time):\n",
    "        for i in range(size):\n",
    "            r = random.randint(0,size-1)\n",
    "            if intensity > random.uniform(0,1):\n",
    "                if abs(propaganda- x[i])<= tolerance:\n",
    "                    x[i] = propaganda\n",
    "                else:\n",
    "                    d = (x[r] - x[i])\n",
    "                    if abs(d) <= tolerance:\n",
    "                        x[i]=x[r]\n",
    "    return(x)"
   ]
  },
  {
   "cell_type": "code",
   "execution_count": null,
   "id": "a0298186",
   "metadata": {},
   "outputs": [],
   "source": []
  },
  {
   "cell_type": "code",
   "execution_count": 4,
   "id": "4acf49e8",
   "metadata": {},
   "outputs": [],
   "source": [
    "def run_simulation(ident):\n",
    "    tolerance = np.linspace(1,options + 1,options + 1)\n",
    "    intensity = np.linspace(1/options,1,options)\n",
    "    for inten in intensity:\n",
    "        for tole in tolerance:\n",
    "            x = simul_global_evol(tole,inten)\n",
    "            df = pd.DataFrame(x)\n",
    "\n",
    "            df.to_csv(f\"data_global_intensity_i{inten}_t{tole}_{ident}\", index=False) "
   ]
  },
  {
   "cell_type": "code",
   "execution_count": 40,
   "id": "ecd47f07",
   "metadata": {},
   "outputs": [],
   "source": [
    "def run_over_tolerance(identifier):\n",
    "    size = 1000\n",
    "    options = 100\n",
    "    time = 4000\n",
    "    intensity = 1/options\n",
    "    propaganda = 80\n",
    "    overtolerance = []\n",
    "    for tolerance in range(1,101):\n",
    "        finalnet = simul_global_evol(tolerance,intensity,propaganda)\n",
    "        smax = np.max(finalnet)\n",
    "        overtolerance.append(smax)\n",
    "        \n",
    "    df = pd.DataFrame(overtolerance)\n",
    "\n",
    "    df.to_csv(\"data_global_intensity_test5_{:2d}\".format(identifier), index=False)       \n",
    "        "
   ]
  },
  {
   "cell_type": "code",
   "execution_count": 5,
   "id": "f9fbef07",
   "metadata": {},
   "outputs": [
    {
     "name": "stdout",
     "output_type": "stream",
     "text": [
      "run_simul took 2172.445sec\n"
     ]
    }
   ],
   "source": [
    "@timebudget\n",
    "def run_simul(operation,input,pool):\n",
    "    pool.map(operation,input)\n",
    "    \n",
    "    \n",
    "    \n",
    "client_ids = ipp.Client()\n",
    "pool = client_ids[:]\n",
    "\n",
    "size = 300\n",
    "options = 30\n",
    "time = 4000\n",
    "propaganda = 24\n",
    "    \n",
    "    \n",
    "processes_count = 10\n",
    "processes_pool = Pool(processes_count)\n",
    "input = range(10)\n",
    "\n",
    "run_simul(run_simulation, input, processes_pool)\n",
    "\n",
    "    \n",
    "#processes_count = 10\n",
    "#if __name__ == '__main__':\n",
    "#    processes_pool = Pool(processes_count)\n",
    "#    run_simul(run_over_tolerance, range(10), processes_pool) "
   ]
  },
  {
   "cell_type": "code",
   "execution_count": 42,
   "id": "a3d80d62",
   "metadata": {},
   "outputs": [
    {
     "data": {
      "text/plain": [
       "6.083333333333333"
      ]
     },
     "execution_count": 42,
     "metadata": {},
     "output_type": "execute_result"
    }
   ],
   "source": [
    "365/60"
   ]
  },
  {
   "cell_type": "code",
   "execution_count": 43,
   "id": "46c9d764",
   "metadata": {},
   "outputs": [
    {
     "data": {
      "text/plain": [
       "10.0"
      ]
     },
     "execution_count": 43,
     "metadata": {},
     "output_type": "execute_result"
    }
   ],
   "source": [
    "600/60"
   ]
  },
  {
   "cell_type": "code",
   "execution_count": null,
   "id": "b2b220ca",
   "metadata": {},
   "outputs": [],
   "source": []
  },
  {
   "cell_type": "code",
   "execution_count": null,
   "id": "f692ce3e",
   "metadata": {},
   "outputs": [],
   "source": []
  },
  {
   "cell_type": "code",
   "execution_count": null,
   "id": "390b8c3d",
   "metadata": {},
   "outputs": [],
   "source": []
  }
 ],
 "metadata": {
  "kernelspec": {
   "display_name": "Python 3 (ipykernel)",
   "language": "python",
   "name": "python3"
  },
  "language_info": {
   "codemirror_mode": {
    "name": "ipython",
    "version": 3
   },
   "file_extension": ".py",
   "mimetype": "text/x-python",
   "name": "python",
   "nbconvert_exporter": "python",
   "pygments_lexer": "ipython3",
   "version": "3.9.13"
  }
 },
 "nbformat": 4,
 "nbformat_minor": 5
}
