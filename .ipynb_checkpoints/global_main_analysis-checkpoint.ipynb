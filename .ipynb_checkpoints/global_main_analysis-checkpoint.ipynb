{
 "cells": [
  {
   "cell_type": "markdown",
   "id": "c094b913",
   "metadata": {},
   "source": [
    "# Global_Discrete Main Analysis"
   ]
  },
  {
   "cell_type": "code",
   "execution_count": 1,
   "id": "dc2d53a7",
   "metadata": {},
   "outputs": [],
   "source": [
    "import global_discrete as gd\n",
    "import numpy as np\n",
    "import pandas as pd\n",
    "import matplotlib.pyplot as plt\n",
    "from multiprocessing import Pool\n",
    "import ipyparallel as ipp"
   ]
  },
  {
   "cell_type": "code",
   "execution_count": 2,
   "id": "ae6bb4cc",
   "metadata": {},
   "outputs": [],
   "source": [
    "size = 100\n",
    "options = 10\n",
    "time = 50000\n",
    "propaganda = 8\n",
    "\n",
    "ob1 = gd.Global(size, options)\n",
    "\n",
    "def run_simulation(ident):\n",
    "    tolerance = np.linspace(1,options ,options )\n",
    "    intensity = np.linspace(1/options,1,options)\n",
    "    for inten in intensity:\n",
    "        for tole in tolerance:\n",
    "            x = ob1.simul_global_evol(tole,inten,time,propaganda)\n",
    "            df = pd.DataFrame(x)\n",
    "\n",
    "            df.to_csv(f\"test/data_global_intensity_i{inten}_t{tole}_{ident}\", index=False) \n"
   ]
  },
  {
   "cell_type": "code",
   "execution_count": 3,
   "id": "2db96537",
   "metadata": {},
   "outputs": [],
   "source": [
    "def run_simul(operation,input,pool):\n",
    "    pool.map(operation,input)   \n",
    "\n",
    "processes_count = 8\n",
    "input = range(10)\n",
    "\n",
    "if __name__ == '__main__':\n",
    "    processes_pool = Pool(processes_count)\n",
    "    run_simul(run_simulation, input, processes_pool) \n"
   ]
  },
  {
   "cell_type": "code",
   "execution_count": null,
   "id": "bf75bbe1",
   "metadata": {},
   "outputs": [],
   "source": []
  }
 ],
 "metadata": {
  "kernelspec": {
   "display_name": "Python 3 (ipykernel)",
   "language": "python",
   "name": "python3"
  },
  "language_info": {
   "codemirror_mode": {
    "name": "ipython",
    "version": 3
   },
   "file_extension": ".py",
   "mimetype": "text/x-python",
   "name": "python",
   "nbconvert_exporter": "python",
   "pygments_lexer": "ipython3",
   "version": "3.9.13"
  }
 },
 "nbformat": 4,
 "nbformat_minor": 5
}
