{
 "cells": [
  {
   "cell_type": "code",
   "execution_count": 8,
   "id": "ed9e7a4b",
   "metadata": {},
   "outputs": [],
   "source": [
    "import discrete_opinion as do\n",
    "import numpy as np\n",
    "import matplotlib.pyplot as plt\n",
    "from tqdm import tqdm"
   ]
  },
  {
   "cell_type": "code",
   "execution_count": 33,
   "id": "8dbc71c1",
   "metadata": {},
   "outputs": [],
   "source": [
    "def most_frequent_value(arr,propaganda):\n",
    "    values, counts = np.unique(arr, return_counts=True)\n",
    "    smax = np.max(counts)\n",
    "    if len(np.where(values == propaganda)[0]) > 0:\n",
    "        print(np.where(values == propaganda))\n",
    "        sprop_index = np.where(values == propaganda)[0][0]\n",
    "        sprop = counts[sprop_index]\n",
    "    else:\n",
    "        sprop = 0\n",
    "    \n",
    "    return smax, sprop\n",
    "    "
   ]
  },
  {
   "cell_type": "code",
   "execution_count": 34,
   "id": "33942410",
   "metadata": {},
   "outputs": [],
   "source": [
    "ob1 = do.Global(size = 1000, options = 100)"
   ]
  },
  {
   "cell_type": "code",
   "execution_count": 35,
   "id": "455bfc56",
   "metadata": {},
   "outputs": [
    {
     "name": "stderr",
     "output_type": "stream",
     "text": [
      "\r",
      "  0%|                                                                                                                                | 0/50 [00:00<?, ?it/s]"
     ]
    },
    {
     "name": "stdout",
     "output_type": "stream",
     "text": [
      "(array([80]),)\n",
      "(array([80]),)\n",
      "(array([14]),)\n"
     ]
    },
    {
     "name": "stderr",
     "output_type": "stream",
     "text": [
      "\r",
      "  2%|██▍                                                                                                                     | 1/50 [00:18<14:44, 18.04s/it]"
     ]
    },
    {
     "name": "stdout",
     "output_type": "stream",
     "text": [
      "(array([80]),)\n",
      "(array([80]),)\n",
      "(array([31]),)\n",
      "(array([2]),)\n",
      "(array([0]),)\n"
     ]
    },
    {
     "name": "stderr",
     "output_type": "stream",
     "text": [
      "\r",
      "  4%|████▊                                                                                                                   | 2/50 [00:36<14:48, 18.51s/it]"
     ]
    },
    {
     "name": "stdout",
     "output_type": "stream",
     "text": [
      "(array([80]),)\n",
      "(array([80]),)\n",
      "(array([31]),)\n",
      "(array([10]),)\n",
      "(array([10]),)\n",
      "(array([1]),)\n",
      "(array([1]),)\n"
     ]
    },
    {
     "name": "stderr",
     "output_type": "stream",
     "text": [
      "\r",
      "  6%|███████▏                                                                                                                | 3/50 [00:55<14:35, 18.62s/it]"
     ]
    },
    {
     "name": "stdout",
     "output_type": "stream",
     "text": [
      "(array([80]),)\n",
      "(array([80]),)\n",
      "(array([6]),)\n",
      "(array([4]),)\n",
      "(array([2]),)\n",
      "(array([0]),)\n"
     ]
    },
    {
     "name": "stderr",
     "output_type": "stream",
     "text": [
      "\r",
      "  8%|█████████▌                                                                                                              | 4/50 [01:14<14:20, 18.70s/it]"
     ]
    },
    {
     "name": "stdout",
     "output_type": "stream",
     "text": [
      "(array([80]),)\n",
      "(array([80]),)\n",
      "(array([32]),)\n",
      "(array([21]),)\n",
      "(array([4]),)\n",
      "(array([0]),)\n"
     ]
    },
    {
     "name": "stderr",
     "output_type": "stream",
     "text": [
      "\r",
      " 10%|████████████                                                                                                            | 5/50 [01:32<13:55, 18.57s/it]"
     ]
    },
    {
     "name": "stdout",
     "output_type": "stream",
     "text": [
      "(array([80]),)\n",
      "(array([80]),)\n",
      "(array([30]),)\n",
      "(array([8]),)\n",
      "(array([3]),)\n",
      "(array([0]),)\n"
     ]
    },
    {
     "name": "stderr",
     "output_type": "stream",
     "text": [
      "\r",
      " 12%|██████████████▍                                                                                                         | 6/50 [01:50<13:28, 18.38s/it]"
     ]
    },
    {
     "name": "stdout",
     "output_type": "stream",
     "text": [
      "(array([80]),)\n",
      "(array([80]),)\n",
      "(array([2]),)\n",
      "(array([1]),)\n"
     ]
    },
    {
     "name": "stderr",
     "output_type": "stream",
     "text": [
      "\r",
      " 14%|████████████████▊                                                                                                       | 7/50 [02:09<13:20, 18.62s/it]"
     ]
    },
    {
     "name": "stdout",
     "output_type": "stream",
     "text": [
      "(array([80]),)\n",
      "(array([80]),)\n"
     ]
    },
    {
     "name": "stderr",
     "output_type": "stream",
     "text": [
      "\r",
      " 16%|███████████████████▏                                                                                                    | 8/50 [02:28<13:05, 18.71s/it]"
     ]
    },
    {
     "name": "stdout",
     "output_type": "stream",
     "text": [
      "(array([80]),)\n",
      "(array([80]),)\n",
      "(array([29]),)\n",
      "(array([5]),)\n",
      "(array([3]),)\n",
      "(array([0]),)\n",
      "(array([0]),)\n"
     ]
    },
    {
     "name": "stderr",
     "output_type": "stream",
     "text": [
      "\r",
      " 18%|█████████████████████▌                                                                                                  | 9/50 [02:46<12:37, 18.47s/it]"
     ]
    },
    {
     "name": "stdout",
     "output_type": "stream",
     "text": [
      "(array([80]),)\n",
      "(array([80]),)\n",
      "(array([31]),)\n",
      "(array([8]),)\n",
      "(array([1]),)\n"
     ]
    },
    {
     "name": "stderr",
     "output_type": "stream",
     "text": [
      "\r",
      " 20%|███████████████████████▊                                                                                               | 10/50 [03:05<12:25, 18.64s/it]"
     ]
    },
    {
     "name": "stdout",
     "output_type": "stream",
     "text": [
      "(array([80]),)\n",
      "(array([80]),)\n",
      "(array([1]),)\n"
     ]
    },
    {
     "name": "stderr",
     "output_type": "stream",
     "text": [
      "\r",
      " 22%|██████████████████████████▏                                                                                            | 11/50 [03:24<12:07, 18.66s/it]"
     ]
    },
    {
     "name": "stdout",
     "output_type": "stream",
     "text": [
      "(array([80]),)\n",
      "(array([80]),)\n",
      "(array([3]),)\n",
      "(array([1]),)\n"
     ]
    },
    {
     "name": "stderr",
     "output_type": "stream",
     "text": [
      "\r",
      " 24%|████████████████████████████▌                                                                                          | 12/50 [03:43<11:48, 18.63s/it]"
     ]
    },
    {
     "name": "stdout",
     "output_type": "stream",
     "text": [
      "(array([80]),)\n",
      "(array([80]),)\n",
      "(array([32]),)\n",
      "(array([13]),)\n",
      "(array([3]),)\n"
     ]
    },
    {
     "name": "stderr",
     "output_type": "stream",
     "text": [
      "\r",
      " 26%|██████████████████████████████▉                                                                                        | 13/50 [04:01<11:26, 18.56s/it]"
     ]
    },
    {
     "name": "stdout",
     "output_type": "stream",
     "text": [
      "(array([80]),)\n",
      "(array([80]),)\n",
      "(array([19]),)\n",
      "(array([8]),)\n",
      "(array([4]),)\n",
      "(array([2]),)\n",
      "(array([1]),)\n"
     ]
    },
    {
     "name": "stderr",
     "output_type": "stream",
     "text": [
      "\r",
      " 28%|█████████████████████████████████▎                                                                                     | 14/50 [04:20<11:11, 18.65s/it]"
     ]
    },
    {
     "name": "stdout",
     "output_type": "stream",
     "text": [
      "(array([80]),)\n",
      "(array([80]),)\n",
      "(array([2]),)\n",
      "(array([1]),)\n"
     ]
    },
    {
     "name": "stderr",
     "output_type": "stream",
     "text": [
      "\r",
      " 30%|███████████████████████████████████▋                                                                                   | 15/50 [04:39<10:57, 18.78s/it]"
     ]
    },
    {
     "name": "stdout",
     "output_type": "stream",
     "text": [
      "(array([80]),)\n",
      "(array([80]),)\n",
      "(array([3]),)\n",
      "(array([1]),)\n"
     ]
    },
    {
     "name": "stderr",
     "output_type": "stream",
     "text": [
      "\r",
      " 32%|██████████████████████████████████████                                                                                 | 16/50 [04:58<10:43, 18.94s/it]"
     ]
    },
    {
     "name": "stdout",
     "output_type": "stream",
     "text": [
      "(array([80]),)\n",
      "(array([80]),)\n",
      "(array([34]),)\n",
      "(array([15]),)\n",
      "(array([5]),)\n"
     ]
    },
    {
     "name": "stderr",
     "output_type": "stream",
     "text": [
      "\r",
      " 34%|████████████████████████████████████████▍                                                                              | 17/50 [05:18<10:30, 19.10s/it]"
     ]
    },
    {
     "name": "stdout",
     "output_type": "stream",
     "text": [
      "(array([80]),)\n",
      "(array([80]),)\n",
      "(array([18]),)\n",
      "(array([3]),)\n"
     ]
    },
    {
     "name": "stderr",
     "output_type": "stream",
     "text": [
      "\r",
      " 36%|██████████████████████████████████████████▊                                                                            | 18/50 [05:36<10:08, 19.01s/it]"
     ]
    },
    {
     "name": "stdout",
     "output_type": "stream",
     "text": [
      "(array([80]),)\n",
      "(array([80]),)\n",
      "(array([8]),)\n",
      "(array([6]),)\n"
     ]
    },
    {
     "name": "stderr",
     "output_type": "stream",
     "text": [
      "\r",
      " 38%|█████████████████████████████████████████████▏                                                                         | 19/50 [05:55<09:45, 18.88s/it]"
     ]
    },
    {
     "name": "stdout",
     "output_type": "stream",
     "text": [
      "(array([80]),)\n",
      "(array([80]),)\n",
      "(array([11]),)\n",
      "(array([7]),)\n",
      "(array([1]),)\n",
      "(array([0]),)\n",
      "(array([0]),)\n"
     ]
    },
    {
     "name": "stderr",
     "output_type": "stream",
     "text": [
      "\r",
      " 40%|███████████████████████████████████████████████▌                                                                       | 20/50 [06:14<09:22, 18.76s/it]"
     ]
    },
    {
     "name": "stdout",
     "output_type": "stream",
     "text": [
      "(array([80]),)\n",
      "(array([80]),)\n",
      "(array([2]),)\n",
      "(array([2]),)\n",
      "(array([1]),)\n"
     ]
    },
    {
     "name": "stderr",
     "output_type": "stream",
     "text": [
      "\r",
      " 42%|█████████████████████████████████████████████████▉                                                                     | 21/50 [06:32<09:02, 18.71s/it]"
     ]
    },
    {
     "name": "stdout",
     "output_type": "stream",
     "text": [
      "(array([80]),)\n",
      "(array([80]),)\n"
     ]
    },
    {
     "name": "stderr",
     "output_type": "stream",
     "text": [
      "\r",
      " 44%|████████████████████████████████████████████████████▎                                                                  | 22/50 [06:51<08:44, 18.75s/it]"
     ]
    },
    {
     "name": "stdout",
     "output_type": "stream",
     "text": [
      "(array([80]),)\n",
      "(array([80]),)\n",
      "(array([12]),)\n",
      "(array([9]),)\n",
      "(array([3]),)\n"
     ]
    },
    {
     "name": "stderr",
     "output_type": "stream",
     "text": [
      "\r",
      " 46%|██████████████████████████████████████████████████████▋                                                                | 23/50 [07:10<08:24, 18.70s/it]"
     ]
    },
    {
     "name": "stdout",
     "output_type": "stream",
     "text": [
      "(array([80]),)\n",
      "(array([80]),)\n",
      "(array([9]),)\n",
      "(array([6]),)\n",
      "(array([2]),)\n"
     ]
    },
    {
     "name": "stderr",
     "output_type": "stream",
     "text": [
      "\r",
      " 48%|█████████████████████████████████████████████████████████                                                              | 24/50 [07:29<08:11, 18.90s/it]"
     ]
    },
    {
     "name": "stdout",
     "output_type": "stream",
     "text": [
      "(array([80]),)\n",
      "(array([80]),)\n",
      "(array([6]),)\n",
      "(array([6]),)\n",
      "(array([6]),)\n",
      "(array([0]),)\n"
     ]
    },
    {
     "name": "stderr",
     "output_type": "stream",
     "text": [
      "\r",
      " 50%|███████████████████████████████████████████████████████████▌                                                           | 25/50 [07:48<07:51, 18.84s/it]"
     ]
    },
    {
     "name": "stdout",
     "output_type": "stream",
     "text": [
      "(array([80]),)\n",
      "(array([80]),)\n",
      "(array([31]),)\n",
      "(array([18]),)\n",
      "(array([7]),)\n",
      "(array([5]),)\n"
     ]
    },
    {
     "name": "stderr",
     "output_type": "stream",
     "text": [
      "\r",
      " 52%|█████████████████████████████████████████████████████████████▉                                                         | 26/50 [08:06<07:28, 18.70s/it]"
     ]
    },
    {
     "name": "stdout",
     "output_type": "stream",
     "text": [
      "(array([80]),)\n",
      "(array([80]),)\n",
      "(array([32]),)\n",
      "(array([4]),)\n",
      "(array([2]),)\n"
     ]
    },
    {
     "name": "stderr",
     "output_type": "stream",
     "text": [
      "\r",
      " 54%|████████████████████████████████████████████████████████████████▎                                                      | 27/50 [08:25<07:10, 18.71s/it]"
     ]
    },
    {
     "name": "stdout",
     "output_type": "stream",
     "text": [
      "(array([80]),)\n",
      "(array([80]),)\n",
      "(array([32]),)\n"
     ]
    },
    {
     "name": "stderr",
     "output_type": "stream",
     "text": [
      "\r",
      " 56%|██████████████████████████████████████████████████████████████████▋                                                    | 28/50 [08:45<06:59, 19.06s/it]"
     ]
    },
    {
     "name": "stdout",
     "output_type": "stream",
     "text": [
      "(array([80]),)\n",
      "(array([80]),)\n",
      "(array([3]),)\n"
     ]
    },
    {
     "name": "stderr",
     "output_type": "stream",
     "text": [
      "\r",
      " 58%|█████████████████████████████████████████████████████████████████████                                                  | 29/50 [09:03<06:38, 18.96s/it]"
     ]
    },
    {
     "name": "stdout",
     "output_type": "stream",
     "text": [
      "(array([80]),)\n",
      "(array([80]),)\n"
     ]
    },
    {
     "name": "stderr",
     "output_type": "stream",
     "text": [
      "\r",
      " 60%|███████████████████████████████████████████████████████████████████████▍                                               | 30/50 [09:22<06:16, 18.83s/it]"
     ]
    },
    {
     "name": "stdout",
     "output_type": "stream",
     "text": [
      "(array([80]),)\n",
      "(array([80]),)\n",
      "(array([33]),)\n",
      "(array([5]),)\n",
      "(array([2]),)\n",
      "(array([1]),)\n",
      "(array([1]),)\n"
     ]
    },
    {
     "name": "stderr",
     "output_type": "stream",
     "text": [
      "\r",
      " 62%|█████████████████████████████████████████████████████████████████████████▊                                             | 31/50 [09:41<05:58, 18.87s/it]"
     ]
    },
    {
     "name": "stdout",
     "output_type": "stream",
     "text": [
      "(array([80]),)\n",
      "(array([80]),)\n",
      "(array([0]),)\n"
     ]
    },
    {
     "name": "stderr",
     "output_type": "stream",
     "text": [
      "\r",
      " 64%|████████████████████████████████████████████████████████████████████████████▏                                          | 32/50 [10:01<05:45, 19.22s/it]"
     ]
    },
    {
     "name": "stdout",
     "output_type": "stream",
     "text": [
      "(array([80]),)\n",
      "(array([80]),)\n",
      "(array([6]),)\n",
      "(array([1]),)\n",
      "(array([1]),)\n",
      "(array([0]),)\n"
     ]
    },
    {
     "name": "stderr",
     "output_type": "stream",
     "text": [
      "\r",
      " 66%|██████████████████████████████████████████████████████████████████████████████▌                                        | 33/50 [10:21<05:30, 19.42s/it]"
     ]
    },
    {
     "name": "stdout",
     "output_type": "stream",
     "text": [
      "(array([0]),)\n",
      "(array([80]),)\n",
      "(array([80]),)\n",
      "(array([34]),)\n",
      "(array([20]),)\n",
      "(array([5]),)\n",
      "(array([1]),)\n",
      "(array([1]),)\n"
     ]
    },
    {
     "name": "stderr",
     "output_type": "stream",
     "text": [
      "\r",
      " 68%|████████████████████████████████████████████████████████████████████████████████▉                                      | 34/50 [10:39<05:06, 19.18s/it]"
     ]
    },
    {
     "name": "stdout",
     "output_type": "stream",
     "text": [
      "(array([80]),)\n",
      "(array([80]),)\n",
      "(array([33]),)\n",
      "(array([18]),)\n",
      "(array([13]),)\n"
     ]
    },
    {
     "name": "stderr",
     "output_type": "stream",
     "text": [
      "\r",
      " 70%|███████████████████████████████████████████████████████████████████████████████████▎                                   | 35/50 [10:58<04:43, 18.91s/it]"
     ]
    },
    {
     "name": "stdout",
     "output_type": "stream",
     "text": [
      "(array([80]),)\n",
      "(array([80]),)\n",
      "(array([31]),)\n"
     ]
    },
    {
     "name": "stderr",
     "output_type": "stream",
     "text": [
      "\r",
      " 72%|█████████████████████████████████████████████████████████████████████████████████████▋                                 | 36/50 [11:17<04:24, 18.92s/it]"
     ]
    },
    {
     "name": "stdout",
     "output_type": "stream",
     "text": [
      "(array([80]),)\n",
      "(array([80]),)\n",
      "(array([32]),)\n",
      "(array([1]),)\n"
     ]
    },
    {
     "name": "stderr",
     "output_type": "stream",
     "text": [
      "\r",
      " 74%|████████████████████████████████████████████████████████████████████████████████████████                               | 37/50 [11:35<04:03, 18.77s/it]"
     ]
    },
    {
     "name": "stdout",
     "output_type": "stream",
     "text": [
      "(array([80]),)\n",
      "(array([80]),)\n",
      "(array([18]),)\n",
      "(array([2]),)\n",
      "(array([1]),)\n",
      "(array([1]),)\n",
      "(array([1]),)\n",
      "(array([0]),)\n"
     ]
    },
    {
     "name": "stderr",
     "output_type": "stream",
     "text": [
      "\r",
      " 76%|██████████████████████████████████████████████████████████████████████████████████████████▍                            | 38/50 [11:53<03:42, 18.57s/it]"
     ]
    },
    {
     "name": "stdout",
     "output_type": "stream",
     "text": [
      "(array([80]),)\n",
      "(array([80]),)\n",
      "(array([2]),)\n",
      "(array([2]),)\n",
      "(array([1]),)\n",
      "(array([1]),)\n"
     ]
    },
    {
     "name": "stderr",
     "output_type": "stream",
     "text": [
      "\r",
      " 78%|████████████████████████████████████████████████████████████████████████████████████████████▊                          | 39/50 [12:12<03:26, 18.73s/it]"
     ]
    },
    {
     "name": "stdout",
     "output_type": "stream",
     "text": [
      "(array([80]),)\n",
      "(array([80]),)\n",
      "(array([10]),)\n",
      "(array([3]),)\n",
      "(array([2]),)\n",
      "(array([2]),)\n",
      "(array([1]),)\n"
     ]
    },
    {
     "name": "stderr",
     "output_type": "stream",
     "text": [
      "\r",
      " 80%|███████████████████████████████████████████████████████████████████████████████████████████████▏                       | 40/50 [12:31<03:07, 18.75s/it]"
     ]
    },
    {
     "name": "stdout",
     "output_type": "stream",
     "text": [
      "(array([80]),)\n",
      "(array([80]),)\n",
      "(array([10]),)\n",
      "(array([5]),)\n"
     ]
    },
    {
     "name": "stderr",
     "output_type": "stream",
     "text": [
      "\r",
      " 82%|█████████████████████████████████████████████████████████████████████████████████████████████████▌                     | 41/50 [12:50<02:49, 18.83s/it]"
     ]
    },
    {
     "name": "stdout",
     "output_type": "stream",
     "text": [
      "(array([80]),)\n",
      "(array([80]),)\n",
      "(array([31]),)\n",
      "(array([11]),)\n",
      "(array([1]),)\n",
      "(array([1]),)\n"
     ]
    },
    {
     "name": "stderr",
     "output_type": "stream",
     "text": [
      "\r",
      " 84%|███████████████████████████████████████████████████████████████████████████████████████████████████▉                   | 42/50 [13:09<02:30, 18.77s/it]"
     ]
    },
    {
     "name": "stdout",
     "output_type": "stream",
     "text": [
      "(array([80]),)\n",
      "(array([80]),)\n",
      "(array([19]),)\n",
      "(array([13]),)\n",
      "(array([6]),)\n",
      "(array([5]),)\n",
      "(array([1]),)\n"
     ]
    },
    {
     "name": "stderr",
     "output_type": "stream",
     "text": [
      "\r",
      " 86%|██████████████████████████████████████████████████████████████████████████████████████████████████████▎                | 43/50 [13:27<02:10, 18.71s/it]"
     ]
    },
    {
     "name": "stdout",
     "output_type": "stream",
     "text": [
      "(array([80]),)\n",
      "(array([80]),)\n"
     ]
    },
    {
     "name": "stderr",
     "output_type": "stream",
     "text": [
      "\r",
      " 88%|████████████████████████████████████████████████████████████████████████████████████████████████████████▋              | 44/50 [13:47<01:53, 18.98s/it]"
     ]
    },
    {
     "name": "stdout",
     "output_type": "stream",
     "text": [
      "(array([80]),)\n",
      "(array([80]),)\n",
      "(array([20]),)\n",
      "(array([14]),)\n",
      "(array([3]),)\n",
      "(array([1]),)\n",
      "(array([0]),)\n",
      "(array([1]),)\n"
     ]
    },
    {
     "name": "stderr",
     "output_type": "stream",
     "text": [
      "\r",
      " 90%|███████████████████████████████████████████████████████████████████████████████████████████████████████████            | 45/50 [14:05<01:34, 18.87s/it]"
     ]
    },
    {
     "name": "stdout",
     "output_type": "stream",
     "text": [
      "(array([80]),)\n",
      "(array([80]),)\n",
      "(array([11]),)\n",
      "(array([9]),)\n",
      "(array([1]),)\n",
      "(array([0]),)\n",
      "(array([0]),)\n"
     ]
    },
    {
     "name": "stderr",
     "output_type": "stream",
     "text": [
      "\r",
      " 92%|█████████████████████████████████████████████████████████████████████████████████████████████████████████████▍         | 46/50 [14:24<01:15, 18.83s/it]"
     ]
    },
    {
     "name": "stdout",
     "output_type": "stream",
     "text": [
      "(array([80]),)\n",
      "(array([80]),)\n",
      "(array([32]),)\n",
      "(array([1]),)\n"
     ]
    },
    {
     "name": "stderr",
     "output_type": "stream",
     "text": [
      "\r",
      " 94%|███████████████████████████████████████████████████████████████████████████████████████████████████████████████▊       | 47/50 [14:43<00:56, 18.79s/it]"
     ]
    },
    {
     "name": "stdout",
     "output_type": "stream",
     "text": [
      "(array([0]),)\n",
      "(array([80]),)\n",
      "(array([80]),)\n",
      "(array([34]),)\n",
      "(array([2]),)\n",
      "(array([1]),)\n"
     ]
    },
    {
     "name": "stderr",
     "output_type": "stream",
     "text": [
      "\r",
      " 96%|██████████████████████████████████████████████████████████████████████████████████████████████████████████████████▏    | 48/50 [15:01<00:37, 18.65s/it]"
     ]
    },
    {
     "name": "stdout",
     "output_type": "stream",
     "text": [
      "(array([80]),)\n",
      "(array([80]),)\n",
      "(array([32]),)\n",
      "(array([12]),)\n",
      "(array([2]),)\n",
      "(array([2]),)\n",
      "(array([0]),)\n"
     ]
    },
    {
     "name": "stderr",
     "output_type": "stream",
     "text": [
      "\r",
      " 98%|████████████████████████████████████████████████████████████████████████████████████████████████████████████████████▌  | 49/50 [15:20<00:18, 18.72s/it]"
     ]
    },
    {
     "name": "stdout",
     "output_type": "stream",
     "text": [
      "(array([80]),)\n",
      "(array([80]),)\n",
      "(array([32]),)\n",
      "(array([15]),)\n",
      "(array([6]),)\n",
      "(array([7]),)\n",
      "(array([0]),)\n",
      "(array([0]),)\n",
      "(array([0]),)\n"
     ]
    },
    {
     "name": "stderr",
     "output_type": "stream",
     "text": [
      "100%|███████████████████████████████████████████████████████████████████████████████████████████████████████████████████████| 50/50 [15:39<00:00, 18.79s/it]\n"
     ]
    }
   ],
   "source": [
    "tol = np.arange(0,100,1) # Tolerance\n",
    "resres1 = []\n",
    "resres2 = []\n",
    "for rep in tqdm(range(50)):\n",
    "    res1 = np.empty(100) #Save smax\n",
    "    res2 = np.empty(100) #Save sprop\n",
    "    for i in tol:\n",
    "        lisq = ob1.simul_global_evol(i, 0.0, 150000, 80)\n",
    "        smax, sprop = most_frequent_value(lisq,80)\n",
    "        res1[i] = smax\n",
    "        res2[i] = sprop\n",
    "    resres1.append(res1)\n",
    "    resres2.append(res2)"
   ]
  },
  {
   "cell_type": "code",
   "execution_count": 36,
   "id": "1a2f210b",
   "metadata": {},
   "outputs": [],
   "source": [
    "\n",
    "mean_res1 = np.mean(resres1, axis =0)\n",
    "mean_res2 = np.mean(resres2, axis =0)"
   ]
  },
  {
   "cell_type": "code",
   "execution_count": 40,
   "id": "a2491da8",
   "metadata": {},
   "outputs": [
    {
     "data": {
      "image/png": "[encoded data removed]",
      "text/plain": [
       "<Figure size 640x480 with 1 Axes>"
      ]
     },
     "metadata": {},
     "output_type": "display_data"
    }
   ],
   "source": [
    "plt.plot(tol/100,abs(mean_res1)/1000,'.-',label = 'Intensity = 0')\n",
    "plt.legend()\n",
    "plt.xlabel(r'$\\mu/p$')\n",
    "plt.ylabel(r'$S_{max}$')\n",
    "#plt.savefig('Images/profile_intensity0.png')"
   ]
  },
  {
   "cell_type": "code",
   "execution_count": null,
   "id": "1be0fd12",
   "metadata": {},
   "outputs": [],
   "source": []
  }
 ],
 "metadata": {
  "kernelspec": {
   "display_name": "Python 3 (ipykernel)",
   "language": "python",
   "name": "python3"
  },
  "language_info": {
   "codemirror_mode": {
    "name": "ipython",
    "version": 3
   },
   "file_extension": ".py",
   "mimetype": "text/x-python",
   "name": "python",
   "nbconvert_exporter": "python",
   "pygments_lexer": "ipython3",
   "version": "3.9.13"
  }
 },
 "nbformat": 4,
 "nbformat_minor": 5
}
