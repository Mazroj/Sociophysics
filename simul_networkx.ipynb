{
 "cells": [
  {
   "cell_type": "code",
   "execution_count": 3,
   "id": "5ba9e08c",
   "metadata": {},
   "outputs": [],
   "source": [
    "import numpy as np\n",
    "import networkx as nx\n",
    "import time\n",
    "import random\n",
    "import matplotlib.pyplot as plt"
   ]
  },
  {
   "cell_type": "markdown",
   "id": "3dcf3e9a",
   "metadata": {},
   "source": [
    "# Code with Numpy (check! why is slow?)"
   ]
  },
  {
   "cell_type": "code",
   "execution_count": 78,
   "id": "a69fb73d",
   "metadata": {},
   "outputs": [],
   "source": [
    "def new_network_nump(size, opinions,k):\n",
    "    '''\n",
    "    Create a cycle network of size and options determined with an aleatory state of opinion and with k neighbors\n",
    "    '''\n",
    "    list1 = np.random.randint(0,opinions,size = size)\n",
    "    \n",
    "\n",
    "    return list1\n",
    "\n",
    "def interaction_nump(list1, tolerance, intensity, propaganda,k):\n",
    "    '''\n",
    "    Simulate the interaction between mass media or agents\n",
    "    '''\n",
    "    list2 = np.zeros(len(list1) + 2*k)\n",
    "    \n",
    "    \n",
    "    list2[k:-k]= list1\n",
    "    \n",
    "    list2[:k] = list1[-k:]\n",
    "    list2[-k:] = list1[:k]\n",
    "    \n",
    "\n",
    "    list3 = np.zeros(len(list1))\n",
    "    for i in range(k,len(list2) - k):\n",
    "        list3[i-k] = np.random.choice(list2[i-k: i+k])\n",
    "\n",
    "    # Create an array with parameters intensity and tolerance\n",
    "    intensity_array = intensity*np.ones(len(list1))\n",
    "    tolerance_array = tolerance*np.ones(len(list1))\n",
    "    random_r = np.random.random(size =len(list1))\n",
    "\n",
    "    # Acts like an if but for an array to work in all elements at the same time \n",
    "    # Defines if interaction is with mass media or agents\n",
    "    \n",
    "    inter_mass = np.where(random_r < intensity_array , 1,np.zeros(len(list1)))\n",
    "\n",
    "    # Interaction with mass media\n",
    "    distance = np.abs(list1 - propaganda)\n",
    "    conditions = np.logical_and(inter_mass == 1 , distance < tolerance_array)\n",
    "    list4 = np.where(conditions, propaganda, list1)\n",
    "\n",
    "    # Interaction with agents\n",
    "    distance = np.abs(list1 - list3)\n",
    "    conditions = np.logical_and(inter_mass == 0 , distance < tolerance_array)\n",
    "    list4 = np.where(conditions, list3, list1)\n",
    "    return list4\n",
    "\n",
    "\n",
    "def inter_simul_nump(time, tolerance, intensity, propaganda, k):\n",
    "    '''\n",
    "    Iterates simulation time times\n",
    "    '''\n",
    "    a = new_network_nump(size, options, k)\n",
    "    T = 0\n",
    "    while T < time:\n",
    "        a = interaction_nump(a, tolerance, intensity, propaganda,k)\n",
    "        T += 1\n",
    "\n",
    "    return a\n",
    "    \n",
    "    "
   ]
  },
  {
   "cell_type": "code",
   "execution_count": 94,
   "id": "61246a74",
   "metadata": {
    "scrolled": true
   },
   "outputs": [
    {
     "name": "stdout",
     "output_type": "stream",
     "text": [
      "10.983128309249878\n",
      "15.698381900787354\n"
     ]
    }
   ],
   "source": [
    "tini = time.time()\n",
    "size = 1000\n",
    "options = 100\n",
    "k = 20\n",
    "a1 = inter_simul_nump(1000,3,0.4,23,k)\n",
    "tend = time.time()\n",
    "print(tend - tini)\n",
    "\n",
    "tini = time.time()\n",
    "size = 1000\n",
    "options = 100\n",
    "a1 = inter_simul(10000,3,0.4,23,k)\n",
    "tend = time.time()\n",
    "print(tend - tini)"
   ]
  },
  {
   "cell_type": "markdown",
   "id": "be7b026f",
   "metadata": {},
   "source": [
    "# Code with NetworkX"
   ]
  },
  {
   "cell_type": "code",
   "execution_count": 95,
   "id": "cdee6f44",
   "metadata": {},
   "outputs": [],
   "source": [
    "def new_network(size, options, k):\n",
    "    '''\n",
    "    Create a cycle network of size and options determined with an aleatory state of opinion and with k neighbors\n",
    "    '''\n",
    "    # Create an empty adjacency matrix\n",
    "    adjacency_matrix = np.zeros((size, size), dtype=int)\n",
    "\n",
    "    # Connect each agent to its k neighbors on each side\n",
    "    for i in range(size):\n",
    "        for j in range(1, k+1):\n",
    "            adjacency_matrix[i, (i - j) % size] = 1  # Connect to the left neighbor\n",
    "            adjacency_matrix[i, (i + j) % size] = 1  # Connect to the right neighbor\n",
    "\n",
    "    # Create a graph from the adjacency matrix\n",
    "    G = nx.from_numpy_array(adjacency_matrix)\n",
    "\n",
    "    opinions = np.random.randint(0, options, size=size)\n",
    "\n",
    "    node_attributes = {node: opinion for node, opinion in zip(G.nodes, opinions)}\n",
    "\n",
    "    # Set the attributes to the graph nodes\n",
    "    nx.set_node_attributes(G, node_attributes, 'opinion')\n",
    "\n",
    "    return G\n",
    "\n",
    "def interaction(graph, tolerance, intensity, propaganda):\n",
    "    '''\n",
    "    Simulate the interaction between mass media or agents\n",
    "    '''\n",
    "    for node in graph.nodes():\n",
    "        if random.random() < intensity:\n",
    "            if abs(graph.nodes[node]['opinion'] - propaganda) < tolerance:\n",
    "                graph.nodes[node]['opinion'] = propaganda\n",
    "        else:\n",
    "            neighbors = list(graph.neighbors(node))\n",
    "            neighbor = random.choice(neighbors)\n",
    "            if abs(graph.nodes[node]['opinion'] - graph.nodes[neighbor]['opinion']) < tolerance:\n",
    "                graph.nodes[node]['opinion'] = graph.nodes[neighbor]['opinion']\n",
    "\n",
    "    return graph\n",
    "\n",
    "def inter_simul(time, tolerance, intensity, propaganda, k):\n",
    "    '''\n",
    "    Iterates simulation time times\n",
    "    '''\n",
    "    a = new_network(size, options, k)\n",
    "    T = 0\n",
    "    while T < time:\n",
    "        a = interaction(a, tolerance, intensity, propaganda)\n",
    "        T += 1\n",
    "\n",
    "    return a\n"
   ]
  },
  {
   "cell_type": "code",
   "execution_count": 99,
   "id": "7e4cd722",
   "metadata": {},
   "outputs": [
    {
     "name": "stdout",
     "output_type": "stream",
     "text": [
      "167.09616589546204\n"
     ]
    }
   ],
   "source": [
    "tini = time.time()\n",
    "size = 500\n",
    "options = 100\n",
    "a=new_network(size,options,20)\n",
    "a1 = inter_simul(300000,3,.4,23,5)\n",
    "tend = time.time()\n",
    "print(tend - tini)"
   ]
  },
  {
   "cell_type": "code",
   "execution_count": 100,
   "id": "b2d9c0fe",
   "metadata": {},
   "outputs": [
    {
     "data": {
      "image/png": "[encoded data removed]",
      "text/plain": [
       "<Figure size 640x480 with 1 Axes>"
      ]
     },
     "metadata": {},
     "output_type": "display_data"
    }
   ],
   "source": [
    "plt.hist(list(nx.get_node_attributes(a,'opinion').values()),bins = 100)\n",
    "plt.show()\n"
   ]
  },
  {
   "cell_type": "code",
   "execution_count": 101,
   "id": "d0970518",
   "metadata": {},
   "outputs": [
    {
     "data": {
      "image/png": "[encoded data removed]",
      "text/plain": [
       "<Figure size 640x480 with 1 Axes>"
      ]
     },
     "metadata": {},
     "output_type": "display_data"
    }
   ],
   "source": [
    "plt.hist(list(nx.get_node_attributes(a1,'opinion').values()),bins = 100)\n",
    "plt.show()"
   ]
  },
  {
   "cell_type": "code",
   "execution_count": null,
   "id": "5a6f6ddf",
   "metadata": {},
   "outputs": [],
   "source": []
  }
 ],
 "metadata": {
  "kernelspec": {
   "display_name": "Python 3 (ipykernel)",
   "language": "python",
   "name": "python3"
  },
  "language_info": {
   "codemirror_mode": {
    "name": "ipython",
    "version": 3
   },
   "file_extension": ".py",
   "mimetype": "text/x-python",
   "name": "python",
   "nbconvert_exporter": "python",
   "pygments_lexer": "ipython3",
   "version": "3.9.13"
  }
 },
 "nbformat": 4,
 "nbformat_minor": 5
}
